{
  "nbformat": 4,
  "nbformat_minor": 0,
  "metadata": {
    "colab": {
      "name": "Student Profile.ipynb",
      "provenance": [],
      "collapsed_sections": [
        "BlQv2lWyJ8on"
      ],
      "toc_visible": true,
      "include_colab_link": true
    },
    "kernelspec": {
      "name": "python3",
      "display_name": "Python 3"
    }
  },
  "cells": [
    {
      "cell_type": "markdown",
      "metadata": {
        "id": "view-in-github",
        "colab_type": "text"
      },
      "source": [
        "<a href=\"https://colab.research.google.com/github/S-Ngigi/ML/blob/master/Student_Profile.ipynb\" target=\"_parent\"><img src=\"https://colab.research.google.com/assets/colab-badge.svg\" alt=\"Open In Colab\"/></a>"
      ]
    },
    {
      "cell_type": "markdown",
      "metadata": {
        "id": "0KDSto3OH6xF",
        "colab_type": "text"
      },
      "source": [
        "# Student profile analysis"
      ]
    },
    {
      "cell_type": "markdown",
      "metadata": {
        "id": "jsJff3hXIcHq",
        "colab_type": "text"
      },
      "source": [
        "## Loading up google drive and file manipulation libraries"
      ]
    },
    {
      "cell_type": "code",
      "metadata": {
        "id": "QW2sYKknh5xW",
        "colab_type": "code",
        "colab": {}
      },
      "source": [
        "#!pip install -U -q PyDrive\n",
        "from pydrive.auth import GoogleAuth\n",
        "from pydrive.drive import GoogleDrive\n",
        "from google.colab import auth\n",
        "from oauth2client.client import GoogleCredentials\n",
        "import gspread\n",
        "import pprint\n",
        "import pydrive.files as files\n",
        "\n",
        "import pandas as pd\n",
        "import numpy as np"
      ],
      "execution_count": 0,
      "outputs": []
    },
    {
      "cell_type": "code",
      "metadata": {
        "id": "iMIy_xMfkSk7",
        "colab_type": "code",
        "colab": {}
      },
      "source": [
        "auth.authenticate_user()\n",
        "ga = GoogleAuth()\n",
        "ga.credentials = GoogleCredentials.get_application_default()\n",
        "drive = GoogleDrive(ga)"
      ],
      "execution_count": 0,
      "outputs": []
    },
    {
      "cell_type": "code",
      "metadata": {
        "id": "8c0yVjcnwCJF",
        "colab_type": "code",
        "colab": {}
      },
      "source": [
        ""
      ],
      "execution_count": 0,
      "outputs": []
    },
    {
      "cell_type": "markdown",
      "metadata": {
        "id": "BlQv2lWyJ8on",
        "colab_type": "text"
      },
      "source": [
        "## Feedback Section\n",
        "\n",
        "### File sorting feedback \n",
        "\n",
        "\n",
        "> Do not need to be run again\n",
        "\n"
      ]
    },
    {
      "cell_type": "code",
      "metadata": {
        "id": "h36wLdYnAnOZ",
        "colab_type": "code",
        "outputId": "97721e60-f1a8-4d49-acd9-f31f8fe33d72",
        "colab": {
          "base_uri": "https://localhost:8080/",
          "height": 221
        }
      },
      "source": [
        "#Getting the feedback folder id\n",
        "feedback_id = '1sQlnMrjq5CDaflokbCla25HtXpPzeCby'\n",
        "# List file in directory\n",
        "file_list2 = drive.ListFile({'q': f\"'{feedback_id}' in parents and trashed=false\"}).GetList()\n",
        "count = 0\n",
        "feedback_dict = {}\n",
        "single_count = 0\n",
        "\n",
        "for folder in file_list2:\n",
        "  count += 1\n",
        "  folderName = folder['title']\n",
        "  folderId = folder['id']\n",
        "  num_files = 0\n",
        "  # print(f\"folder_name: {folderName}\\nfolder_id:{folderId}\")\n",
        "  file_list3 = drive.ListFile({'q': f\"'{folderId}' in parents and trashed=false\"}).GetList()\n",
        "  for sub_folder in file_list3:\n",
        "    num_files += 1\n",
        "  if num_files == 1:\n",
        "    feedback_dict[folderName] = {}\n",
        "    feedback_dict[folderName]['folder_id'] = folderId\n",
        "    feedback_dict[folderName]['file_title'] = sub_folder['title']\n",
        "    feedback_dict[folderName]['file_id'] = sub_folder['id']\n",
        "    single_count +=1\n",
        "\n",
        "    \n",
        "  print(folderName +\" has \" +str(num_files)+\" files\")\n",
        "  \n",
        "\n",
        "print(\"Number of folders in the parent folder =\"+str(count))\n"
      ],
      "execution_count": 0,
      "outputs": [
        {
          "output_type": "stream",
          "text": [
            "feedback_1 has 22 files\n",
            "MC12 has 3 files\n",
            "MC1 has 20 files\n",
            "MPFT11 has 7 files\n",
            "MPFT2 has 5 files\n",
            "MPFT3 has 5 files\n",
            "MPFT1 has 5 files\n",
            "MPFT4 has 2 files\n",
            "prep has 21 files\n",
            "core has 63 files\n",
            "cohort has 21 files\n",
            "Number of folders in the parent folder =11\n"
          ],
          "name": "stdout"
        }
      ]
    },
    {
      "cell_type": "code",
      "metadata": {
        "id": "gCp_INJRBdT7",
        "colab_type": "code",
        "outputId": "f8bf1231-4333-4b3c-954c-40f72d66defa",
        "colab": {
          "base_uri": "https://localhost:8080/",
          "height": 1000
        }
      },
      "source": [
        "pprint.pprint(feedback_dict)"
      ],
      "execution_count": 0,
      "outputs": [
        {
          "output_type": "stream",
          "text": [
            "{'MC10': {'file_id': '1DdPKrxLlOxEdQhATvRQ0vvw4TKa0UFvM',\n",
            "          'file_title': 'MC10 Feedback (Responses).xlsx',\n",
            "          'folder_id': '1obDMl5GDxNSKARYN6HfxeJmx43m0YxQL'},\n",
            " 'MC11': {'file_id': '1121-lNJTQYS0taMBK7ZS5wMeFWMiqRDN',\n",
            "          'file_title': 'MC11 Feedback (Responses).xlsx',\n",
            "          'folder_id': '1jeZ-ixRbV6_sNom4Y95Fh5vWhgyIw_Zr'},\n",
            " 'MC2': {'file_id': '1j7OzXGsemj-gMjLFGOZ6FJtOPO5G_ulM',\n",
            "         'file_title': 'MC2 W1 - W19 Feedback (Responses).xlsx',\n",
            "         'folder_id': '1vhydhAd0paVJtIeR2gCxUTvfSR4t7pmE'},\n",
            " 'MC3': {'file_id': '1r0u_tnQY5J7aPWm8Xp0albexEZQD9ON8',\n",
            "         'file_title': 'MC3 W1-W19 Feedback (Responses).xlsx',\n",
            "         'folder_id': '1Cp61E-XLIJGu7NEeQO9B163w5MKNox64'},\n",
            " 'MC4': {'file_id': '1C7eyzLnGjk1Q5XWcZi6ipuVncsXN6tnm',\n",
            "         'file_title': 'MC4 W1-W19 Feedback (Responses).xlsx',\n",
            "         'folder_id': '19aLZ4HKhE-vWhAZJpkoFAsDUBtc6zVj4'},\n",
            " 'MC5': {'file_id': '1fEpK4nkA184E7rdqPfNM7abPC1s7-pz3',\n",
            "         'file_title': 'MC5 W1-W19 Feedback (Responses).xlsx',\n",
            "         'folder_id': '1aa5MulJHQlaOLitzGZ3X2fQV_-vsjhUf'},\n",
            " 'MC6': {'file_id': '1igIHxXwo5buS5forUurpSVBtvENpAkp3',\n",
            "         'file_title': 'MC6 Feedback (Responses).xlsx',\n",
            "         'folder_id': '1wQ9FiN5jJ1smhAc4emQaA08zsPjENx_6'},\n",
            " 'MC7': {'file_id': '1kYLGw3b67woLLkBFNam0w9JtiKXmAA-A',\n",
            "         'file_title': 'MC7 W1-W15 Feedback Responses.xlsx',\n",
            "         'folder_id': '1TtrHpMsH4-wN0m-cdfs-LmkRR5Xn07Zv'},\n",
            " 'MC8': {'file_id': '1FfEWU9-j3E8NK7YIR_Gu8ZLZGkiZf6hM',\n",
            "         'file_title': 'MC8  Feedback (Responses).xlsx',\n",
            "         'folder_id': '1ExhYRTfB7OIYS6obWxE9NYfRmUYqRh1n'},\n",
            " 'MC9 - JS': {'file_id': '135MWkOHIS1_UtqP1ecJEw7Ug-wGFbCBK',\n",
            "              'file_title': 'MC9-JS Feedback (Responses).xlsx',\n",
            "              'folder_id': '1gFeqUx9kj4sDFiZHqy_mrAIRVxEEMCRR'},\n",
            " 'MC9 - Java': {'file_id': '1P1phNdEK0P5MSVb-UTMPja07Nf8xTXgG',\n",
            "                'file_title': 'MC9-Java (Responses).xlsx',\n",
            "                'folder_id': '1YWbyR_RwQq6661tYfZT9abPEb5Vp4K5m'},\n",
            " 'MC9 - Python': {'file_id': '1MH1yrEvtTdHrkbcgInstC4-E7s1upfA7',\n",
            "                  'file_title': 'MC9-Python Feedback (Responses).xlsx',\n",
            "                  'folder_id': '1ZW7RniQMeYwk2ItWztLOXZErBPVWLhO8'},\n",
            " 'MPFT10': {'file_id': '1bxMR5GL1lcwTMjBK_Gbr51AjKlGUoWZr',\n",
            "            'file_title': 'MPFT10 W1-W5 Feedback (Responses).xlsx',\n",
            "            'folder_id': '1BUZiyGwc9090zRpT9gHfOCnG4qPSOm6Y'},\n",
            " 'MPFT12': {'file_id': '1tnwlP17nvFwjOeWZtciMsS853I2FB1yc',\n",
            "            'file_title': 'MPFT12 W1-W5 Feedback (Responses).xlsx',\n",
            "            'folder_id': '18y0Pau62FivJVAZQUVia0XmQzw8Uy6vG'},\n",
            " 'MPFT13': {'file_id': '1dNONOznDfE4pO_xkRWU1hPGR5562_W-E',\n",
            "            'file_title': 'MPFT13 W1 - W5 Feedback (Responses).xlsx',\n",
            "            'folder_id': '1j8RWq4tG6G7l22cpA3Dh0gfGPmMane-x'},\n",
            " 'MPFT14': {'file_id': '1oaUXpGHnMk1Jue1GokIwif4j6w7OYye9',\n",
            "            'file_title': 'MPFT14 Feedback (Responses).xlsx',\n",
            "            'folder_id': '1zBWAZIacuJP2gQ4AQitW6PAfBgokOLST'},\n",
            " 'MPFT5': {'file_id': '1dshzPhR_MvrJlt9zUheJ-NBeW52MyjMF',\n",
            "           'file_title': 'MPFT5 W1-W5 Feedback (Responses).xlsx',\n",
            "           'folder_id': '1lp-uaws8Ue-mXoP11coU4976lx7TUvCI'},\n",
            " 'MPFT6': {'file_id': '1UHMovki5oyxXUG7cfExWl8rKkAsj1hjo',\n",
            "           'file_title': 'MPFT6 WK1-5 Feedback (Responses).xlsx',\n",
            "           'folder_id': '1Eg3DDPEpQmYUa5JeGnROrGHQkxSF0gTb'},\n",
            " 'MPFT7': {'file_id': '1o8S6aC29qLN7ORpJ8A2w90CPsyb5ZAek',\n",
            "           'file_title': 'MPFT7 WK1-4 Feedback (Responses).xlsx',\n",
            "           'folder_id': '1YpCF9VOea35zXd4xQxEe5FIhciUY6FH7'},\n",
            " 'MPFT8-Alpha': {'file_id': '168FOkrDDcDsOjGQDfFXEuV4kB8ESdStQ',\n",
            "                 'file_title': 'MPFT8 Alpha W1-5 Feedback (Responses).xlsx',\n",
            "                 'folder_id': '1V1SRZsPLJ5QSV5dcc_0b-RkPfpfpgHs4'},\n",
            " 'MPFT8-Loki': {'file_id': '1TlBQ19pT31Cg8sMwAtUG4-v-CCsc2O6m',\n",
            "                'file_title': 'MPFT8 W1-W5 Feedback (Responses).xlsx',\n",
            "                'folder_id': '11buxoX5z8vozjC0HNFNPYWmbYK4XXJPr'},\n",
            " 'MPFT9': {'file_id': '1RflEJW76E_yCJ3cU6tcCnhB_S2F4Dr1O',\n",
            "           'file_title': 'MPFT9 W1-5 Feedback (Responses).xlsx',\n",
            "           'folder_id': '1HUH5XVD8SCv2LWTPKm2CmvYZKqVyhYAc'}}\n"
          ],
          "name": "stdout"
        }
      ]
    },
    {
      "cell_type": "code",
      "metadata": {
        "id": "pJ2B1TBR2R69",
        "colab_type": "code",
        "colab": {}
      },
      "source": [
        "files = drive.auth.service.files()\n",
        "destination_id='12-2SyMa4VBoIcBZKG2cVqNSQpuQ1EkXD'\n",
        "#function to move file\n",
        "def move_file(destination_id=destination_id, file_id=None, origin_id=None):\n",
        "  moved_file = files.update(fileId=file_id, \n",
        "                            addParents=destination_id,\n",
        "                            removeParents=origin_id,\n",
        "                            fields='id, parents').execute()"
      ],
      "execution_count": 0,
      "outputs": []
    },
    {
      "cell_type": "code",
      "metadata": {
        "id": "qJDkEUkkkYZL",
        "colab_type": "code",
        "colab": {}
      },
      "source": [
        "# for key in feedback_dict:\n",
        "#   move_file(file_id=feedback_dict[key]['file_id'])"
      ],
      "execution_count": 0,
      "outputs": []
    },
    {
      "cell_type": "code",
      "metadata": {
        "id": "0bNTwqb1Rkhk",
        "colab_type": "code",
        "outputId": "34c8879d-6bf7-4a18-bfde-46b6841976ec",
        "colab": {
          "base_uri": "https://localhost:8080/",
          "height": 391
        }
      },
      "source": [
        "for key in feedback_dict:\n",
        "  print(key)\n",
        "  # for ikey in feedback_dict[key]:\n",
        "  #   if ikey=='folder_id':\n",
        "  #     print(ikey)\n",
        "  #     print(feedback_dict[key][ikey])\n",
        "  #   elif ikey == 'file_id':\n",
        "  #     print(ikey)\n",
        "  #     print(feedback_dict[key][ikey])\n",
        "  #   else:\n",
        "  #     pass"
      ],
      "execution_count": 0,
      "outputs": [
        {
          "output_type": "stream",
          "text": [
            "MC5\n",
            "MC9 - Java\n",
            "MC3\n",
            "MC4\n",
            "MC11\n",
            "MC2\n",
            "MC9 - JS\n",
            "MC8\n",
            "MC6\n",
            "MC7\n",
            "MC9 - Python\n",
            "MC10\n",
            "MPFT13\n",
            "MPFT8-Alpha\n",
            "MPFT14\n",
            "MPFT9\n",
            "MPFT7\n",
            "MPFT6\n",
            "MPFT12\n",
            "MPFT10\n",
            "MPFT8-Loki\n",
            "MPFT5\n"
          ],
          "name": "stdout"
        }
      ]
    },
    {
      "cell_type": "code",
      "metadata": {
        "id": "s3HlM4WBRdDp",
        "colab_type": "code",
        "colab": {}
      },
      "source": [
        "# def delete_file(folder_id):\n",
        "#   # Create GoogleDriveFile instance and upload it.\n",
        "#   folder_id = folder_id\n",
        "#   file1 = drive.CreateFile({'id': folder_id})\n",
        "\n",
        "#   file1.Trash()  # Move file to trash.  \n",
        "\n",
        "# for key in feedback_dict:\n",
        "#   delete_file(folder_id=feedback_dict[key]['folder_id'])"
      ],
      "execution_count": 0,
      "outputs": []
    },
    {
      "cell_type": "code",
      "metadata": {
        "id": "qjYctL8IComS",
        "colab_type": "code",
        "colab": {}
      },
      "source": [
        "# fileID = \"1d5iE2DaLM4_strVNVGkIbls2k-KuDrW_OKoeTTDZyZU\" \n",
        "# file2 = drive.CreateFile({'id': fileID})\n",
        "# file2.Trash()  # Move file to trash.\n",
        "# file2.UnTrash()  # Move file out of trash.\n",
        "\n",
        "# fileId = \"1TL6fE87_RySX2pk2Rhsi_aiBkoLqtUZSVlrtJh6MeW4\"\n",
        "# mc10 = \"1DdPKrxLlOxEdQhATvRQ0vvw4TKa0UFvM\"\n",
        "# out_folder = \"18X-08FsDF3MRZhfFW5BfONJ_s-8vQ85E\"\n",
        "# mc10File = drive.CreateFile({'id':mc10})\n",
        "\n",
        "# files = drive.auth.service.files()\n",
        "# mc10File  = files.get(fileId= mc10, fields= 'parents').execute()\n",
        "\n",
        "# mc10File  = files.update( fileId = mc10,\n",
        "#                       addParents = out_folder,\n",
        "#                       fields = 'id, parents',\n",
        "#                       ).execute()\n",
        "\n",
        "# test = {}\n",
        "# test[\"one\"] = {}\n",
        "# test[\"one\"][\"_one\"] = \"Test1\"\n",
        "# test[\"one\"][\"_two\"] = \"Test2\"\n",
        "# test"
      ],
      "execution_count": 0,
      "outputs": []
    },
    {
      "cell_type": "code",
      "metadata": {
        "id": "G1XBdkgRosKW",
        "colab_type": "code",
        "outputId": "a06ae08f-ec28-488d-a7be-e3a59595beaa",
        "colab": {
          "base_uri": "https://localhost:8080/",
          "height": 34
        }
      },
      "source": [
        "print(len(feedback_dict)==single_count)\n",
        "\n",
        "count=0\n",
        "file_list = drive.ListFile({'q': f\"'{destination_id}' in parents and trashed=false\"}).GetList()\n",
        "for file in file_list:\n",
        "  count += 1\n",
        "count"
      ],
      "execution_count": 0,
      "outputs": [
        {
          "output_type": "execute_result",
          "data": {
            "text/plain": [
              "22"
            ]
          },
          "metadata": {
            "tags": []
          },
          "execution_count": 22
        }
      ]
    },
    {
      "cell_type": "markdown",
      "metadata": {
        "id": "vhB9D2ipM-GT",
        "colab_type": "text"
      },
      "source": [
        "## Loading up the different files"
      ]
    },
    {
      "cell_type": "markdown",
      "metadata": {
        "id": "0knaiEOwBWJO",
        "colab_type": "text"
      },
      "source": [
        "## Outcome Section\n"
      ]
    },
    {
      "cell_type": "markdown",
      "metadata": {
        "id": "1jE2GHxLCozK",
        "colab_type": "text"
      },
      "source": [
        "### Loadin the outcomes data\n",
        "\n",
        "We read from the outcomes folder in drive using the folder Id and file ID"
      ]
    },
    {
      "cell_type": "code",
      "metadata": {
        "id": "BJitrGe-hPdk",
        "colab_type": "code",
        "outputId": "bac9e0cb-a5a7-487d-ac39-caf2fe8ad243",
        "colab": {
          "base_uri": "https://localhost:8080/",
          "height": 51
        }
      },
      "source": [
        "spread_url = 'https://docs.google.com/spreadsheets/d/'\n",
        "folder_id = '18X-08FsDF3MRZhfFW5BfONJ_s-8vQ85E' \n",
        "# List file in directory\n",
        "file_list = drive.ListFile({'q': f\"'{folder_id}' in parents and trashed=false\"}).GetList()\n",
        "\n",
        "for file in file_list:\n",
        "  fileName = file['title']\n",
        "  fileId = file['id']\n",
        "  print(f\"file_name: {fileName}\\nfile_id:{fileId}\")\n"
      ],
      "execution_count": 40,
      "outputs": [
        {
          "output_type": "stream",
          "text": [
            "file_name: M.S Graduates Tracker\n",
            "file_id:1TL6fE87_RySX2pk2Rhsi_aiBkoLqtUZSVlrtJh6MeW4\n"
          ],
          "name": "stdout"
        }
      ]
    },
    {
      "cell_type": "code",
      "metadata": {
        "id": "EvQAko7To4uC",
        "colab_type": "code",
        "colab": {}
      },
      "source": [
        "# Gspread call\n",
        "gsp = gspread.authorize(GoogleCredentials.get_application_default())"
      ],
      "execution_count": 0,
      "outputs": []
    },
    {
      "cell_type": "code",
      "metadata": {
        "id": "pTNjCDvRq4Uz",
        "colab_type": "code",
        "colab": {}
      },
      "source": [
        "outcome_wb = gsp.open_by_url(f'{spread_url}{fileId}')"
      ],
      "execution_count": 0,
      "outputs": []
    },
    {
      "cell_type": "code",
      "metadata": {
        "id": "QbFohiqWSta2",
        "colab_type": "code",
        "outputId": "cba52a13-bb4e-4b71-fe6a-94f4a0adebfa",
        "colab": {
          "base_uri": "https://localhost:8080/",
          "height": 493
        }
      },
      "source": [
        "outcomes_worksheets = outcome_wb.worksheets()\n",
        "del outcomes_worksheets[2] \n",
        "outcomes_worksheets =outcomes_worksheets[:-8]\n",
        "grad_ke = len(outcomes_worksheets)\n",
        "print(grad_ke)\n",
        "outcomes_worksheets"
      ],
      "execution_count": 43,
      "outputs": [
        {
          "output_type": "stream",
          "text": [
            "27\n"
          ],
          "name": "stdout"
        },
        {
          "output_type": "execute_result",
          "data": {
            "text/plain": [
              "[<Worksheet 'Cohort 1' id:250853569>,\n",
              " <Worksheet 'Cohort 2' id:939695604>,\n",
              " <Worksheet 'Cohort 3' id:773501914>,\n",
              " <Worksheet 'Cohort 4' id:39552532>,\n",
              " <Worksheet 'Cohort 5' id:345585666>,\n",
              " <Worksheet 'Cohort 6' id:73338368>,\n",
              " <Worksheet 'Cohort 7' id:1938771017>,\n",
              " <Worksheet 'MC    1' id:1436363104>,\n",
              " <Worksheet 'MC   2' id:715037735>,\n",
              " <Worksheet 'MC   3' id:454636541>,\n",
              " <Worksheet 'MC   4' id:1598010224>,\n",
              " <Worksheet 'MC   5' id:1584875653>,\n",
              " <Worksheet 'MC   6' id:1571554605>,\n",
              " <Worksheet 'MC   7' id:2109064685>,\n",
              " <Worksheet 'MC   8' id:607425769>,\n",
              " <Worksheet 'MC   9' id:577588626>,\n",
              " <Worksheet 'MC1   0' id:1738786071>,\n",
              " <Worksheet 'MC   1   1' id:1971269453>,\n",
              " <Worksheet 'MC1   2' id:551698329>,\n",
              " <Worksheet 'MC1   3' id:1613907553>,\n",
              " <Worksheet 'MC1   4' id:1578318890>,\n",
              " <Worksheet 'MC15-1   6' id:897475976>,\n",
              " <Worksheet 'MC1   7' id:1032484390>,\n",
              " <Worksheet 'MC1   8' id:1692531341>,\n",
              " <Worksheet 'MC1   9' id:1913998371>,\n",
              " <Worksheet 'MC2   0' id:1278098024>,\n",
              " <Worksheet 'DSC   1' id:2778754>]"
            ]
          },
          "metadata": {
            "tags": []
          },
          "execution_count": 43
        }
      ]
    },
    {
      "cell_type": "markdown",
      "metadata": {
        "id": "iuLT-yDwDBnV",
        "colab_type": "text"
      },
      "source": [
        "**Note** This cell below does not need to be run again. \n",
        "\n",
        "Its main task was to rename the google workbook sheet names, that has already taken effect."
      ]
    },
    {
      "cell_type": "code",
      "metadata": {
        "id": "vKe6kBTZ8CdN",
        "colab_type": "code",
        "colab": {}
      },
      "source": [
        "# ttl = lambda x : x.title()\n",
        "# outcomes_test = [ for i in outcomes_worksheets if re.match('^M|^D', i.title)]\n",
        "# outcomes_test\n",
        "# import re\n",
        "# for i in outcomes_worksheets:\n",
        "#   if re.match('^M|^D', i.title):\n",
        "#     i.update_title(i.title.replace(i.title[-1], f\" {i.title[-1]}\"))\n",
        "# outcomes_worksheets"
      ],
      "execution_count": 0,
      "outputs": []
    },
    {
      "cell_type": "code",
      "metadata": {
        "id": "96n2k4bO5-Xo",
        "colab_type": "code",
        "outputId": "003a9138-5643-44a2-cd8e-68ca4990b1f1",
        "colab": {
          "base_uri": "https://localhost:8080/",
          "height": 377
        }
      },
      "source": [
        "# G Spread to DataFrame\n",
        "data =  outcome_wb.get_worksheet(0).get_all_values()\n",
        "df_test = pd.DataFrame(data)\n",
        "df_test.columns  = df_test.iloc[0]\n",
        "df_test = df_test.iloc[1:]\n",
        "df_test.head()"
      ],
      "execution_count": 0,
      "outputs": [
        {
          "output_type": "execute_result",
          "data": {
            "text/html": [
              "<div>\n",
              "<style scoped>\n",
              "    .dataframe tbody tr th:only-of-type {\n",
              "        vertical-align: middle;\n",
              "    }\n",
              "\n",
              "    .dataframe tbody tr th {\n",
              "        vertical-align: top;\n",
              "    }\n",
              "\n",
              "    .dataframe thead th {\n",
              "        text-align: right;\n",
              "    }\n",
              "</style>\n",
              "<table border=\"1\" class=\"dataframe\">\n",
              "  <thead>\n",
              "    <tr style=\"text-align: right;\">\n",
              "      <th></th>\n",
              "      <th>First Name</th>\n",
              "      <th>Last Name</th>\n",
              "      <th>Email</th>\n",
              "      <th>Phone Numbers</th>\n",
              "      <th>DOB</th>\n",
              "      <th>Age</th>\n",
              "      <th>Educational Background</th>\n",
              "      <th>Gender</th>\n",
              "      <th>Developer Profile (Android or Full Stack)</th>\n",
              "      <th>Dates of 1st Offer</th>\n",
              "      <th>Period to First Offer (days)</th>\n",
              "      <th>Company after MS</th>\n",
              "      <th>Job Title</th>\n",
              "      <th>Full-time/Internship</th>\n",
              "      <th>Had a job before MS? (Yes or No)</th>\n",
              "      <th>Salary Before MS (Ksh)</th>\n",
              "      <th>Current Company</th>\n",
              "      <th>Salary After MS (Ksh)</th>\n",
              "      <th>Second Salary After MS (Ksh)</th>\n",
              "      <th>Graduation Date</th>\n",
              "      <th>30th Comments Post-Call</th>\n",
              "    </tr>\n",
              "  </thead>\n",
              "  <tbody>\n",
              "    <tr>\n",
              "      <th>1</th>\n",
              "      <td>Wilhelm</td>\n",
              "      <td>Uschtrin</td>\n",
              "      <td>uschtrinw@gmail.com</td>\n",
              "      <td></td>\n",
              "      <td></td>\n",
              "      <td></td>\n",
              "      <td>Bachelor's Degree</td>\n",
              "      <td>Male</td>\n",
              "      <td></td>\n",
              "      <td></td>\n",
              "      <td></td>\n",
              "      <td>Started own company/Entreprenuer</td>\n",
              "      <td></td>\n",
              "      <td>N/A</td>\n",
              "      <td>Yes</td>\n",
              "      <td>not relevant</td>\n",
              "      <td></td>\n",
              "      <td>Entrepreneur</td>\n",
              "      <td></td>\n",
              "      <td></td>\n",
              "      <td></td>\n",
              "    </tr>\n",
              "    <tr>\n",
              "      <th>2</th>\n",
              "      <td>Diana</td>\n",
              "      <td>Wanjuhi</td>\n",
              "      <td>dwanjuhi@alueducation.com</td>\n",
              "      <td>0710107375</td>\n",
              "      <td></td>\n",
              "      <td></td>\n",
              "      <td>High School</td>\n",
              "      <td>Female</td>\n",
              "      <td></td>\n",
              "      <td></td>\n",
              "      <td></td>\n",
              "      <td>Maramoja</td>\n",
              "      <td></td>\n",
              "      <td>Full Time</td>\n",
              "      <td>Yes</td>\n",
              "      <td>0</td>\n",
              "      <td>Africa's Talking</td>\n",
              "      <td>Ksh30,000.00</td>\n",
              "      <td></td>\n",
              "      <td></td>\n",
              "      <td>Not picked</td>\n",
              "    </tr>\n",
              "    <tr>\n",
              "      <th>3</th>\n",
              "      <td>Keval</td>\n",
              "      <td>Shah</td>\n",
              "      <td>kevalsha@gmail.com</td>\n",
              "      <td></td>\n",
              "      <td></td>\n",
              "      <td></td>\n",
              "      <td>Bachelor's Degree</td>\n",
              "      <td>Male</td>\n",
              "      <td></td>\n",
              "      <td></td>\n",
              "      <td></td>\n",
              "      <td>Consulting/Entreprenuer</td>\n",
              "      <td></td>\n",
              "      <td>N/A</td>\n",
              "      <td>Yes</td>\n",
              "      <td>not relevant</td>\n",
              "      <td></td>\n",
              "      <td>not relevant</td>\n",
              "      <td></td>\n",
              "      <td></td>\n",
              "      <td></td>\n",
              "    </tr>\n",
              "    <tr>\n",
              "      <th>4</th>\n",
              "      <td>Dhruti</td>\n",
              "      <td>Shah</td>\n",
              "      <td>dhrutishah10@gmail.com</td>\n",
              "      <td></td>\n",
              "      <td></td>\n",
              "      <td></td>\n",
              "      <td>Bachelor's Degree</td>\n",
              "      <td>Female</td>\n",
              "      <td></td>\n",
              "      <td></td>\n",
              "      <td></td>\n",
              "      <td>Consulting//Entreprenuer</td>\n",
              "      <td></td>\n",
              "      <td>N/A</td>\n",
              "      <td>Yes</td>\n",
              "      <td>not relevant</td>\n",
              "      <td></td>\n",
              "      <td>not relevant</td>\n",
              "      <td></td>\n",
              "      <td></td>\n",
              "      <td></td>\n",
              "    </tr>\n",
              "    <tr>\n",
              "      <th>5</th>\n",
              "      <td></td>\n",
              "      <td></td>\n",
              "      <td></td>\n",
              "      <td></td>\n",
              "      <td></td>\n",
              "      <td></td>\n",
              "      <td></td>\n",
              "      <td></td>\n",
              "      <td></td>\n",
              "      <td></td>\n",
              "      <td></td>\n",
              "      <td></td>\n",
              "      <td></td>\n",
              "      <td></td>\n",
              "      <td></td>\n",
              "      <td></td>\n",
              "      <td></td>\n",
              "      <td></td>\n",
              "      <td></td>\n",
              "      <td></td>\n",
              "      <td></td>\n",
              "    </tr>\n",
              "  </tbody>\n",
              "</table>\n",
              "</div>"
            ],
            "text/plain": [
              "0 First Name Last Name  ... Graduation Date 30th Comments Post-Call\n",
              "1   Wilhelm   Uschtrin  ...                                        \n",
              "2     Diana    Wanjuhi  ...                              Not picked\n",
              "3     Keval       Shah  ...                                        \n",
              "4    Dhruti       Shah  ...                                        \n",
              "5                       ...                                        \n",
              "\n",
              "[5 rows x 21 columns]"
            ]
          },
          "metadata": {
            "tags": []
          },
          "execution_count": 75
        }
      ]
    },
    {
      "cell_type": "code",
      "metadata": {
        "id": "OWz7_H5Zf60g",
        "colab_type": "code",
        "colab": {}
      },
      "source": [
        "def get_ret_outcomes_df(sheet):\n",
        "  data =  sheet.get_all_values()\n",
        "  df_test = pd.DataFrame(data)\n",
        "  df_test.columns  = df_test.iloc[0]\n",
        "  df_test = df_test.iloc[1:]\n",
        "  return df_test\n",
        "\n",
        "# ds_ = get_ret_outcomes_df(outcomes_worksheets[26])\n",
        "# ds_.head()"
      ],
      "execution_count": 0,
      "outputs": []
    },
    {
      "cell_type": "code",
      "metadata": {
        "id": "2hXEd9Tz6Wma",
        "colab_type": "code",
        "colab": {}
      },
      "source": [
        "outcomes_dfs = {i.title: get_ret_outcomes_df(i) for i in outcomes_worksheets}\n",
        "outcomes_dfs = {k.replace(' ', '').lower():v for k,v in outcomes_dfs.items()}\n",
        "# [*outcomes_dfs.keys()]"
      ],
      "execution_count": 0,
      "outputs": []
    },
    {
      "cell_type": "markdown",
      "metadata": {
        "id": "m5bdP74xDjTz",
        "colab_type": "text"
      },
      "source": [
        "### Cleaning Data\n",
        "\n",
        "After the above cell, our outcomes work sheets are in the outcomes_dfs dict which we shall use to clean & transform the individual sheets before combining all sheets into a single dataframe"
      ]
    },
    {
      "cell_type": "code",
      "metadata": {
        "id": "1GJ7lgfFi4dd",
        "colab_type": "code",
        "outputId": "b5f03c2c-b39d-4c8a-a200-6442ce66032b",
        "colab": {
          "base_uri": "https://localhost:8080/",
          "height": 476
        }
      },
      "source": [
        "# Checking initial shape\n",
        "for k, v in outcomes_dfs.items():\n",
        "  print(k, ': ', v.shape)"
      ],
      "execution_count": 58,
      "outputs": [
        {
          "output_type": "stream",
          "text": [
            "cohort1 :  (53, 21)\n",
            "cohort2 :  (58, 20)\n",
            "cohort3 :  (59, 20)\n",
            "cohort4 :  (65, 18)\n",
            "cohort5 :  (59, 19)\n",
            "cohort6 :  (66, 19)\n",
            "cohort7 :  (74, 19)\n",
            "mc1 :  (967, 29)\n",
            "mc2 :  (958, 27)\n",
            "mc3 :  (965, 29)\n",
            "mc4 :  (25, 31)\n",
            "mc5 :  (19, 30)\n",
            "mc6 :  (14, 29)\n",
            "mc7 :  (19, 31)\n",
            "mc8 :  (37, 30)\n",
            "mc9 :  (25, 27)\n",
            "mc10 :  (33, 33)\n",
            "mc11 :  (53, 37)\n",
            "mc12 :  (40, 42)\n",
            "mc13 :  (31, 38)\n",
            "mc14 :  (43, 47)\n",
            "mc15-16 :  (64, 51)\n",
            "mc17 :  (43, 58)\n",
            "mc18 :  (46, 58)\n",
            "mc19 :  (24, 58)\n",
            "mc20 :  (45, 58)\n",
            "dsc1 :  (27, 58)\n"
          ],
          "name": "stdout"
        }
      ]
    },
    {
      "cell_type": "code",
      "metadata": {
        "id": "sqR5NagQJVMi",
        "colab_type": "code",
        "outputId": "56271514-7c0d-475f-fd7f-9ca9895a1d5e",
        "colab": {
          "base_uri": "https://localhost:8080/",
          "height": 476
        }
      },
      "source": [
        "for k, v in outcomes_dfs.items():\n",
        "  # Create new column with the class name i.e cohort 1, cohort 2, cohort 3\n",
        "  v['Class'] = k\n",
        "  # Get the index of the first occurence of null in First Name\n",
        "  df_boundary = (v['First Name'].values == '').argmax()\n",
        "  # Return all rows before instance of null\n",
        "  outcomes_dfs[k] = v[v.index <= df_boundary]\n",
        "  # Print data & new shape\n",
        "  print(f'{k} shape: {outcomes_dfs[k].shape}')"
      ],
      "execution_count": 59,
      "outputs": [
        {
          "output_type": "stream",
          "text": [
            "cohort1 shape: (4, 22)\n",
            "cohort2 shape: (11, 21)\n",
            "cohort3 shape: (11, 21)\n",
            "cohort4 shape: (16, 19)\n",
            "cohort5 shape: (10, 20)\n",
            "cohort6 shape: (20, 20)\n",
            "cohort7 shape: (26, 20)\n",
            "mc1 shape: (24, 30)\n",
            "mc2 shape: (11, 28)\n",
            "mc3 shape: (18, 30)\n",
            "mc4 shape: (17, 32)\n",
            "mc5 shape: (11, 31)\n",
            "mc6 shape: (6, 30)\n",
            "mc7 shape: (11, 32)\n",
            "mc8 shape: (28, 31)\n",
            "mc9 shape: (17, 28)\n",
            "mc10 shape: (24, 34)\n",
            "mc11 shape: (44, 38)\n",
            "mc12 shape: (21, 43)\n",
            "mc13 shape: (22, 39)\n",
            "mc14 shape: (34, 48)\n",
            "mc15-16 shape: (56, 52)\n",
            "mc17 shape: (35, 59)\n",
            "mc18 shape: (38, 59)\n",
            "mc19 shape: (16, 59)\n",
            "mc20 shape: (37, 59)\n",
            "dsc1 shape: (19, 59)\n"
          ],
          "name": "stdout"
        }
      ]
    },
    {
      "cell_type": "code",
      "metadata": {
        "id": "06LRQ1TPZ9iu",
        "colab_type": "code",
        "outputId": "147b7458-c2c8-4658-de77-1c388747d390",
        "colab": {
          "base_uri": "https://localhost:8080/",
          "height": 346
        }
      },
      "source": [
        "outcomes_dfs['cohort1'].tail()"
      ],
      "execution_count": 0,
      "outputs": [
        {
          "output_type": "execute_result",
          "data": {
            "text/html": [
              "<div>\n",
              "<style scoped>\n",
              "    .dataframe tbody tr th:only-of-type {\n",
              "        vertical-align: middle;\n",
              "    }\n",
              "\n",
              "    .dataframe tbody tr th {\n",
              "        vertical-align: top;\n",
              "    }\n",
              "\n",
              "    .dataframe thead th {\n",
              "        text-align: right;\n",
              "    }\n",
              "</style>\n",
              "<table border=\"1\" class=\"dataframe\">\n",
              "  <thead>\n",
              "    <tr style=\"text-align: right;\">\n",
              "      <th></th>\n",
              "      <th>First Name</th>\n",
              "      <th>Last Name</th>\n",
              "      <th>Email</th>\n",
              "      <th>Phone Numbers</th>\n",
              "      <th>DOB</th>\n",
              "      <th>Age</th>\n",
              "      <th>Educational Background</th>\n",
              "      <th>Gender</th>\n",
              "      <th>Developer Profile (Android or Full Stack)</th>\n",
              "      <th>Dates of 1st Offer</th>\n",
              "      <th>Period to First Offer (days)</th>\n",
              "      <th>Company after MS</th>\n",
              "      <th>Job Title</th>\n",
              "      <th>Full-time/Internship</th>\n",
              "      <th>Had a job before MS? (Yes or No)</th>\n",
              "      <th>Salary Before MS (Ksh)</th>\n",
              "      <th>Current Company</th>\n",
              "      <th>Salary After MS (Ksh)</th>\n",
              "      <th>Second Salary After MS (Ksh)</th>\n",
              "      <th>Graduation Date</th>\n",
              "      <th>30th Comments Post-Call</th>\n",
              "      <th>Class</th>\n",
              "    </tr>\n",
              "  </thead>\n",
              "  <tbody>\n",
              "    <tr>\n",
              "      <th>1</th>\n",
              "      <td>Wilhelm</td>\n",
              "      <td>Uschtrin</td>\n",
              "      <td>uschtrinw@gmail.com</td>\n",
              "      <td></td>\n",
              "      <td></td>\n",
              "      <td></td>\n",
              "      <td>Bachelor's Degree</td>\n",
              "      <td>Male</td>\n",
              "      <td></td>\n",
              "      <td></td>\n",
              "      <td></td>\n",
              "      <td>Started own company/Entreprenuer</td>\n",
              "      <td></td>\n",
              "      <td>N/A</td>\n",
              "      <td>Yes</td>\n",
              "      <td>not relevant</td>\n",
              "      <td></td>\n",
              "      <td>Entrepreneur</td>\n",
              "      <td></td>\n",
              "      <td></td>\n",
              "      <td></td>\n",
              "      <td>cohort1</td>\n",
              "    </tr>\n",
              "    <tr>\n",
              "      <th>2</th>\n",
              "      <td>Diana</td>\n",
              "      <td>Wanjuhi</td>\n",
              "      <td>dwanjuhi@alueducation.com</td>\n",
              "      <td>0710107375</td>\n",
              "      <td></td>\n",
              "      <td></td>\n",
              "      <td>High School</td>\n",
              "      <td>Female</td>\n",
              "      <td></td>\n",
              "      <td></td>\n",
              "      <td></td>\n",
              "      <td>Maramoja</td>\n",
              "      <td></td>\n",
              "      <td>Full Time</td>\n",
              "      <td>Yes</td>\n",
              "      <td>0</td>\n",
              "      <td>Africa's Talking</td>\n",
              "      <td>Ksh30,000.00</td>\n",
              "      <td></td>\n",
              "      <td></td>\n",
              "      <td>Not picked</td>\n",
              "      <td>cohort1</td>\n",
              "    </tr>\n",
              "    <tr>\n",
              "      <th>3</th>\n",
              "      <td>Keval</td>\n",
              "      <td>Shah</td>\n",
              "      <td>kevalsha@gmail.com</td>\n",
              "      <td></td>\n",
              "      <td></td>\n",
              "      <td></td>\n",
              "      <td>Bachelor's Degree</td>\n",
              "      <td>Male</td>\n",
              "      <td></td>\n",
              "      <td></td>\n",
              "      <td></td>\n",
              "      <td>Consulting/Entreprenuer</td>\n",
              "      <td></td>\n",
              "      <td>N/A</td>\n",
              "      <td>Yes</td>\n",
              "      <td>not relevant</td>\n",
              "      <td></td>\n",
              "      <td>not relevant</td>\n",
              "      <td></td>\n",
              "      <td></td>\n",
              "      <td></td>\n",
              "      <td>cohort1</td>\n",
              "    </tr>\n",
              "    <tr>\n",
              "      <th>4</th>\n",
              "      <td>Dhruti</td>\n",
              "      <td>Shah</td>\n",
              "      <td>dhrutishah10@gmail.com</td>\n",
              "      <td></td>\n",
              "      <td></td>\n",
              "      <td></td>\n",
              "      <td>Bachelor's Degree</td>\n",
              "      <td>Female</td>\n",
              "      <td></td>\n",
              "      <td></td>\n",
              "      <td></td>\n",
              "      <td>Consulting//Entreprenuer</td>\n",
              "      <td></td>\n",
              "      <td>N/A</td>\n",
              "      <td>Yes</td>\n",
              "      <td>not relevant</td>\n",
              "      <td></td>\n",
              "      <td>not relevant</td>\n",
              "      <td></td>\n",
              "      <td></td>\n",
              "      <td></td>\n",
              "      <td>cohort1</td>\n",
              "    </tr>\n",
              "  </tbody>\n",
              "</table>\n",
              "</div>"
            ],
            "text/plain": [
              "0 First Name Last Name  ... 30th Comments Post-Call    Class\n",
              "1   Wilhelm   Uschtrin  ...                          cohort1\n",
              "2     Diana    Wanjuhi  ...              Not picked  cohort1\n",
              "3     Keval       Shah  ...                          cohort1\n",
              "4    Dhruti       Shah  ...                          cohort1\n",
              "\n",
              "[4 rows x 22 columns]"
            ]
          },
          "metadata": {
            "tags": []
          },
          "execution_count": 12
        }
      ]
    },
    {
      "cell_type": "code",
      "metadata": {
        "id": "dzf1hWapbdX8",
        "colab_type": "code",
        "outputId": "caa496da-2679-4533-8055-9198da8627c4",
        "colab": {
          "base_uri": "https://localhost:8080/",
          "height": 391
        }
      },
      "source": [
        "outcomes_dfs['cohort1'].columns.values.tolist()"
      ],
      "execution_count": 0,
      "outputs": [
        {
          "output_type": "execute_result",
          "data": {
            "text/plain": [
              "['First Name',\n",
              " 'Last Name',\n",
              " 'Email',\n",
              " 'Phone Numbers',\n",
              " 'DOB',\n",
              " 'Age',\n",
              " 'Educational Background',\n",
              " 'Gender',\n",
              " 'Developer Profile (Android or Full Stack)',\n",
              " 'Dates of 1st Offer',\n",
              " 'Period to First Offer (days)',\n",
              " 'Company after MS',\n",
              " 'Job Title',\n",
              " 'Full-time/Internship',\n",
              " 'Had a job before MS? (Yes or No)',\n",
              " 'Salary Before MS (Ksh)',\n",
              " 'Current Company',\n",
              " 'Salary After MS (Ksh)',\n",
              " 'Second Salary After MS (Ksh)',\n",
              " 'Graduation Date',\n",
              " '30th Comments Post-Call',\n",
              " 'Class']"
            ]
          },
          "metadata": {
            "tags": []
          },
          "execution_count": 16
        }
      ]
    },
    {
      "cell_type": "code",
      "metadata": {
        "id": "OGfRjb8bl6jX",
        "colab_type": "code",
        "outputId": "7a14fabf-3be5-4753-a42f-2af702ed2f21",
        "colab": {
          "base_uri": "https://localhost:8080/",
          "height": 187
        }
      },
      "source": [
        "outcomes_dfs['cohort1'].columns.values.tolist()[:10]"
      ],
      "execution_count": 0,
      "outputs": [
        {
          "output_type": "execute_result",
          "data": {
            "text/plain": [
              "['First Name',\n",
              " 'Last Name',\n",
              " 'Email',\n",
              " 'Phone Numbers',\n",
              " 'DOB',\n",
              " 'Age',\n",
              " 'Educational Background',\n",
              " 'Gender',\n",
              " 'Developer Profile (Android or Full Stack)',\n",
              " 'Dates of 1st Offer']"
            ]
          },
          "metadata": {
            "tags": []
          },
          "execution_count": 17
        }
      ]
    },
    {
      "cell_type": "code",
      "metadata": {
        "id": "HYYvEAEPedv7",
        "colab_type": "code",
        "outputId": "d755ff46-fac9-4b54-968a-9f7520528bd4",
        "colab": {
          "base_uri": "https://localhost:8080/",
          "height": 102
        }
      },
      "source": [
        "outcomes_dfs['cohort1']['Class']"
      ],
      "execution_count": 0,
      "outputs": [
        {
          "output_type": "execute_result",
          "data": {
            "text/plain": [
              "1    cohort1\n",
              "2    cohort1\n",
              "3    cohort1\n",
              "4    cohort1\n",
              "Name: Class, dtype: object"
            ]
          },
          "metadata": {
            "tags": []
          },
          "execution_count": 14
        }
      ]
    },
    {
      "cell_type": "markdown",
      "metadata": {
        "id": "4xyl-sOu0WFv",
        "colab_type": "text"
      },
      "source": [
        "Next task is to standadize the columns by deciding which columns we will keep for all cohorts and naming them accordingly\n",
        "\n",
        "Then after we shall combine al the data frames together.\n",
        "\n",
        "We will create a list of all the column names and then compare for similar columns then correct differently names but similar columsn"
      ]
    },
    {
      "cell_type": "code",
      "metadata": {
        "id": "lcM-k7qC0Qny",
        "colab_type": "code",
        "outputId": "4febc484-0933-4f01-e87d-2c10a9dc9c52",
        "colab": {
          "base_uri": "https://localhost:8080/",
          "height": 1000
        }
      },
      "source": [
        "out_colNames = {}\n",
        "\n",
        "for k, v in outcomes_dfs.items():\n",
        "  print(k, ' columns:', v.columns.values[:19])\n",
        "  print('*'*20) "
      ],
      "execution_count": 48,
      "outputs": [
        {
          "output_type": "stream",
          "text": [
            "cohort1  columns: ['First Name' 'Last Name' 'Email' 'Phone Numbers' 'DOB' 'Age'\n",
            " 'Educational Background' 'Gender'\n",
            " 'Developer Profile (Android or Full Stack)' 'Dates of 1st Offer'\n",
            " 'Period to First Offer (days)' 'Company after MS' 'Job Title'\n",
            " 'Full-time/Internship' 'Had a job before MS? (Yes or No)'\n",
            " 'Salary Before MS (Ksh)' 'Current Company' 'Salary After MS (Ksh)'\n",
            " 'Second Salary After MS (Ksh)']\n",
            "********************\n",
            "cohort2  columns: ['First Name' 'Last Name' 'Email' 'Phone Numbers' 'DOB' 'Age'\n",
            " 'Educational Background' 'Gender'\n",
            " 'Developer Profile (Android or Full Stack)' 'Dates of 1st Offer'\n",
            " 'Period to First Offer (days)' 'Company after MS' 'Job Title'\n",
            " 'Full-time/Internship' 'Had a job before MS? (Yes or No)'\n",
            " 'Salary Before MS (Ksh)' 'Salary After MS (Ksh)'\n",
            " 'Second Salary After MS (Ksh)' 'Comments Post-Call']\n",
            "********************\n",
            "cohort3  columns: ['First Name' 'Last Name' 'Email' 'Phone Numbers' 'DOB' 'Age'\n",
            " 'Educational Background' 'Gender'\n",
            " 'Developer Profile (Android or Full Stack)' 'Dates of 1st Offer'\n",
            " 'Period to First Offer (days)' 'Company after MS' 'Job Title'\n",
            " 'Full-time/Internship' 'Had a job before MS? (Yes or No)'\n",
            " 'Salary Before MS (Ksh)' 'Salary After MS (Ksh)'\n",
            " 'Second Salary After MS (Ksh)' 'Comments Post-Call']\n",
            "********************\n",
            "cohort4  columns: ['First Name' 'Last Name' 'Email' 'Phone Numbers' 'DOB' 'Age'\n",
            " 'Educational Background' 'Gender'\n",
            " 'Developer Profile (Android or Full Stack)' 'Dates of 1st Offer'\n",
            " 'Period to First Offer (days)' 'Company after MS' 'Job Title'\n",
            " 'Full-time/Internship' 'Had a job before MS? (Yes or No)'\n",
            " 'Salary Before MS (Ksh)' 'Salary After MS (Ksh)'\n",
            " 'Second Salary After MS (Ksh)' 'Class']\n",
            "********************\n",
            "cohort5  columns: ['First Name' 'Last Name' 'Email' 'Phone Numbers' 'DOB' 'Age'\n",
            " 'Educational Background' 'Gender'\n",
            " 'Developer Profile (Android or Full Stack)' 'Dates of 1st Offer'\n",
            " 'Period to First Offer (days)' 'Company after MS' 'Job Title'\n",
            " 'Full-time/Internship' 'Had a job before MS? (Yes or No)'\n",
            " 'Salary Before MS (Ksh)' 'Salary After MS (Ksh)'\n",
            " 'Second Salary After MS (Ksh)' 'Comments Post-Call']\n",
            "********************\n",
            "cohort6  columns: ['First Name' 'Last Name' 'Email' 'Phone Numbers' 'DOB' 'Age'\n",
            " 'Educational Background' 'Gender'\n",
            " 'Developer Profile (Android or Full Stack)' 'Dates of 1st Offer'\n",
            " 'Period to First Offer (days)' 'Company after MS' 'Job Title'\n",
            " 'Full-time/Internship' 'Had a job before MS? (Yes or No)'\n",
            " 'Salary Before MS (Ksh)' 'Salary After MS (Ksh)'\n",
            " 'Second Salary After MS (Ksh)' 'Comments Post-Call']\n",
            "********************\n",
            "cohort7  columns: ['First Name' 'Last Name' 'Email' 'Phone Numbers' 'DOB' 'Age'\n",
            " 'Educational Background' 'Gender'\n",
            " 'Developer Profile (Android or Full Stack)' 'Dates of 1st Offer'\n",
            " 'Period to First Offer (days)' 'Company after MS' 'Job Title'\n",
            " 'Full-time/Internship' 'Had a job before MS? (Yes or No)'\n",
            " 'Salary Before MS (Ksh)' 'Salary After MS (Ksh)'\n",
            " 'Second Salary After MS (Ksh)' 'Comments Post-Call']\n",
            "********************\n",
            "mc1  columns: ['First Name' 'Last Name' 'Looking for a job?' 'If No, What?'\n",
            " 'If Other Reasons, Indicate' 'Employment Status (Within 6 Months)'\n",
            " 'Email' 'Phone Numbers' 'DOB' 'Age' 'Educational Background' 'Gender'\n",
            " 'Developer Profile (Android or Full Stack)' 'Dates of 1st Offer'\n",
            " 'Period to First Offer (days)' 'Company after MS' 'Job Title'\n",
            " 'Job Status' 'Had a job before MS? (Yes or No)']\n",
            "********************\n",
            "mc2  columns: ['First Name' 'Last Name' 'Looking for a job?' 'If No, What?'\n",
            " 'If Other Reasons, Indicate' 'Employment Status (Within 6 Months)'\n",
            " 'Email' 'Phone Numbers' 'DOB' 'Age' 'Educational Background' 'Gender'\n",
            " 'Developer Profile (Android or Full Stack)' 'Dates of 1st Offer'\n",
            " 'Period to First Offer (days)' 'Company after MS' 'Job Title'\n",
            " 'Job Status' 'Had a job before MS? (Yes or No)']\n",
            "********************\n",
            "mc3  columns: ['First Name' 'Last Name' 'Looking for a job?' 'If No, What?'\n",
            " 'If Other Reasons, Indicate' 'Employment Status (Within 6 Months)'\n",
            " 'Email' 'Phone Numbers' 'DOB' 'Age' 'Educational Background' 'Gender'\n",
            " 'Developer Profile (Android or Full Stack)' 'Dates of 1st Offer'\n",
            " 'Period to First Offer (days)' 'Company after MS' 'Job Title'\n",
            " 'Job Status' 'Had a job before MS? (Yes or No)']\n",
            "********************\n",
            "mc4  columns: ['First Name' 'Last Name' 'Looking for a job?' 'If No, What?'\n",
            " 'If Other Reasons, Indicate' 'Employment Status (Within 6 Months)'\n",
            " 'Email' 'Phone Numbers' 'DOB' 'Age' 'Educational Background' 'Gender'\n",
            " 'Developer Profile (Android or Full Stack)' 'Dates of 1st Offer'\n",
            " 'Period to First Offer (days)' 'Company after MS' 'Job Title'\n",
            " 'Job Status' 'Had a job before MS? (Yes or No)']\n",
            "********************\n",
            "mc5  columns: ['First Name' 'Last Name' 'Looking for a job?' 'If No, What?'\n",
            " 'If Other Reasons, Indicate' 'Employment Status (Within 6 Months)'\n",
            " 'Email' 'Phone Numbers' 'DOB' 'Age' 'Educational Background' 'Gender'\n",
            " 'Developer Profile (Android or Full Stack)' 'Dates of 1st Offer'\n",
            " 'Period to First Offer (days)' 'Company after MS' 'Job Title'\n",
            " 'Job Status' 'Had a job before MS? (Yes or No)']\n",
            "********************\n",
            "mc6  columns: ['First Name' 'Last Name' 'Looking for a job?' 'If No, What?'\n",
            " 'If Other Reasons, Indicate' 'Employment Status (Within 6 Months)'\n",
            " 'Email' 'Phone Numbers' 'DOB' 'Age' 'Educational Background' 'Gender'\n",
            " 'Developer Profile (Android or Full Stack)' 'Dates of 1st Offer'\n",
            " 'Period to First Offer (days)' 'Current Company after MS' 'Job Title'\n",
            " 'Job Status' 'Had a job before MS? (Yes or No)']\n",
            "********************\n",
            "mc7  columns: ['First Name' 'Last Name' 'Looking for a job?' 'If No, What?'\n",
            " 'If Other Reasons, Indicate' 'Employment Status (Within 6 Months)'\n",
            " 'Email' 'Phone Numbers' 'DOB' 'Age' 'Educational Background' 'Gender'\n",
            " 'Developer Profile (Android or Full Stack)' 'Dates of 1st Offer'\n",
            " 'Period to First Offer (days)' 'Company after MS' 'Job Title'\n",
            " 'Job Status' 'Had a job before MS? (Yes or No)']\n",
            "********************\n",
            "mc8  columns: ['First Name' 'Last Name' 'Looking for a job?' 'If No, What?'\n",
            " 'If Other Reasons, Indicate' 'Employment Status (Within 6 Months)'\n",
            " 'Email' 'Phone Numbers' 'DOB' 'Age' 'Educational Background' 'Gender'\n",
            " 'Developer Profile (Android or Full Stack)' 'Dates of 1st Offer'\n",
            " 'Period to First Offer (days)' 'Company after MS' 'Job Title'\n",
            " 'Job Status' 'Had a job before MS? (Yes or No)']\n",
            "********************\n",
            "mc9  columns: ['First Name' 'Last Name' 'Looking for a job?' 'If No, What?'\n",
            " 'If Other Reasons, Indicate' 'Employment Status (Within 6 Months)'\n",
            " 'Email' 'Phone Numbers' 'DOB' 'Age' 'Educational Background' 'Gender'\n",
            " 'Developer Profile (Android or Full Stack)' 'Dates of 1st Offer'\n",
            " 'Period to First Offer (days)' 'Company after MS' 'Job Title'\n",
            " 'Job Status' 'Had a job before MS? (Yes or No)']\n",
            "********************\n",
            "mc10  columns: ['First Name' 'Last Name' 'Looking for a job?' 'If No, What?'\n",
            " 'If Other Reasons, Indicate' 'Employment Status (Within 6 Months)'\n",
            " 'Email' 'Phone Numbers' 'DOB' 'Age' 'Educational Background' 'Gender'\n",
            " 'Developer Profile (Android or Full Stack)' 'Dates of 1st Offer'\n",
            " 'Period to First Offer (days)' 'Company after MS' 'Job Title'\n",
            " 'Job Status' 'Had a job before MS? (Yes or No)']\n",
            "********************\n",
            "mc11  columns: ['First Name' 'Last Name' 'Looking for a job?' 'If No, What?'\n",
            " 'If Other Reasons, Indicate' 'Type of Student'\n",
            " 'Employment Status (Within 6 Months)' 'Email' 'Phone Numbers' 'DOB' 'Age'\n",
            " 'Educational Background' 'Gender'\n",
            " 'Developer Profile (Android or Full Stack)' 'Dates of 1st Offer'\n",
            " 'Period to First Offer (days)' 'Company after MS'\n",
            " 'Comments post-call for 20th July' 'Job Title']\n",
            "********************\n",
            "mc12  columns: ['First Name' 'Last Name' 'Looking for a job?' 'If No, What?'\n",
            " 'If Other Reasons, Indicate' 'Type of Student'\n",
            " 'Employment Status (Within 6 Months)' 'Email' 'Phone Numbers' 'DOB' 'Age'\n",
            " 'Educational Background' 'Gender'\n",
            " 'Developer Profile (Android or Full Stack)' 'Dates of Offer'\n",
            " 'Period to Offer (days)' 'Company after MS' 'Job Title' 'Job Type']\n",
            "********************\n",
            "mc13  columns: ['First Name' 'Last Name' 'Looking for a job?' 'If No, What?'\n",
            " 'If Other Reasons, Indicate' 'Type of Student'\n",
            " 'Employment Status (Within 6 Months)' 'Email' 'Phone Numbers' 'DOB' 'Age'\n",
            " 'Educational Background' 'Gender'\n",
            " 'Developer Profile (Android or Full Stack)' 'Dates of 1st Offer'\n",
            " 'Period to First Offer (days)' 'Company after MS' 'Job Title' 'Job Type']\n",
            "********************\n",
            "mc14  columns: ['First Name' 'Last Name' 'Looking for a job?' 'If No, What?'\n",
            " 'If Other Reasons, Indicate' 'Type of Student'\n",
            " 'Employment Status (Within 6 Months)' 'Email' 'Phone Numbers' 'DOB' 'Age'\n",
            " 'Educational Background' 'Gender'\n",
            " 'Developer Profile (Android or Full Stack)' 'Date of Offer'\n",
            " 'Accepted Offer?' 'Other offer date (if any) '\n",
            " 'Accepted Offer? (if applicable)' 'Period to Accepted Offer (days)']\n",
            "********************\n",
            "mc15-16  columns: ['First Name' 'Last Name' 'Looking for a job?' 'If No, What?'\n",
            " 'If Other Reasons, Indicate' 'Type of Student'\n",
            " 'Employment Status (Within 6 Months)' 'Email' 'Phone Numbers' 'DOB'\n",
            " 'Age (DO NOT EDIT)' 'Educational Background' 'Gender'\n",
            " 'Developer Profile (Android or Full Stack)' 'Date of Offer'\n",
            " 'Accepted Offer?' 'Other offer date (if any) ' 'Accepted Offer? (if any)'\n",
            " 'Official Start Date']\n",
            "********************\n",
            "mc17  columns: ['First Name' 'Last Name' 'Email'\n",
            " 'Phone Number (s) (including country code)' 'Date of Birth'\n",
            " 'Age (DO NOT EDIT)' 'Highest Education Background Completed' 'Gender'\n",
            " 'Graduate Profile' 'Type of Student'\n",
            " 'Eligible to Work in Training Location?' 'Link to CV'\n",
            " 'Intent and Classification' 'If Not Job-Seeking Graduate, What?'\n",
            " 'Any comment, Indicate' 'Date of Offer' 'Was the Offer accepted?'\n",
            " 'Was there a Documentation of accepted offer?'\n",
            " 'Type of Accepted Offer Documentation']\n",
            "********************\n",
            "mc18  columns: ['First Name' 'Last Name' 'Email'\n",
            " 'Phone Number (s) (including country code)' 'Date of Birth' 'Age'\n",
            " 'Highest Education Background Completed' 'Gender' 'Graduate Profile'\n",
            " 'Type of Student' 'Eligible to Work in Training Location?' 'Link to CV'\n",
            " 'Intent and Classification' 'If Not Job-Seeking Graduate, What?'\n",
            " 'If Other Ventures, Indicate' 'Date of Offer' 'Was the Offer accepted?'\n",
            " 'Was there a Documentation of accepted offer?'\n",
            " 'Type of Accepted Offer Documentation']\n",
            "********************\n",
            "mc19  columns: ['First Name' 'Last Name' 'Email'\n",
            " 'Phone Number (s) (including country code)' 'Date of Birth'\n",
            " 'Age (DO NOT EDIT)' 'Highest Education Background Completed' 'Gender'\n",
            " 'Graduate Profile' 'Graduate Category'\n",
            " 'Eligible to Work in Training Location?' 'Link to CV'\n",
            " 'Intent and Classification' 'If Not Job-Seeking Graduate, What?'\n",
            " 'Any comment, Indicate' 'Date of Offer' 'Was the Offer accepted?'\n",
            " 'Was there a Documentation of accepted offer?'\n",
            " 'Type of Accepted Offer Documentation']\n",
            "********************\n",
            "mc20  columns: ['First Name' 'Last Name' 'Email'\n",
            " 'Phone Number (s) (including country code)' 'Date of Birth'\n",
            " 'Age (DO NOT EDIT)' 'Highest Education Background Completed' 'Gender'\n",
            " 'Graduate Profile' 'Graduate Category'\n",
            " 'Eligible to Work in Training Location?' 'Link to CV'\n",
            " 'Intent and Classification' 'If Not Job-Seeking Graduate, What?'\n",
            " 'Any comment, Indicate' 'Date of Offer' 'Was the Offer accepted?'\n",
            " 'Was there a Documentation of accepted offer?'\n",
            " 'Type of Accepted Offer Documentation']\n",
            "********************\n",
            "dsc1  columns: ['First Name' 'Last Name' 'Email'\n",
            " 'Phone Number (s) (including country code)' 'Date of Birth'\n",
            " 'Age (DO NOT EDIT)' 'Highest Education Background Completed' 'Gender'\n",
            " 'Graduate Profile' 'Graduate Category'\n",
            " 'Eligible to Work in Training Location?' 'Link to CV'\n",
            " 'Intent and Classification' 'If Not Job-Seeking Graduate, What?'\n",
            " 'Any comments, Indicate' 'Date of Offer' 'Was the Offer accepted?'\n",
            " 'Was there a Documentation of accepted offer?'\n",
            " 'Type of Accepted Offer Documentation']\n",
            "********************\n"
          ],
          "name": "stdout"
        }
      ]
    },
    {
      "cell_type": "code",
      "metadata": {
        "id": "e4l0qEExy-5O",
        "colab_type": "code",
        "outputId": "528c8a1d-7360-4071-85cf-1529dc2a73a9",
        "colab": {
          "base_uri": "https://localhost:8080/",
          "height": 391
        }
      },
      "source": [
        "outcomes_dfs['cohort1'].columns.values.tolist()"
      ],
      "execution_count": 0,
      "outputs": [
        {
          "output_type": "execute_result",
          "data": {
            "text/plain": [
              "['First Name',\n",
              " 'Last Name',\n",
              " 'Email',\n",
              " 'Phone Numbers',\n",
              " 'DOB',\n",
              " 'Age',\n",
              " 'Educational Background',\n",
              " 'Gender',\n",
              " 'Developer Profile (Android or Full Stack)',\n",
              " 'Dates of 1st Offer',\n",
              " 'Period to First Offer (days)',\n",
              " 'Company after MS',\n",
              " 'Job Title',\n",
              " 'Full-time/Internship',\n",
              " 'Had a job before MS? (Yes or No)',\n",
              " 'Salary Before MS (Ksh)',\n",
              " 'Current Company',\n",
              " 'Salary After MS (Ksh)',\n",
              " 'Second Salary After MS (Ksh)',\n",
              " 'Graduation Date',\n",
              " '30th Comments Post-Call',\n",
              " 'Class']"
            ]
          },
          "metadata": {
            "tags": []
          },
          "execution_count": 19
        }
      ]
    },
    {
      "cell_type": "code",
      "metadata": {
        "id": "LwfQNZ4lkgH0",
        "colab_type": "code",
        "colab": {}
      },
      "source": [
        "must_cols = ['First Name',\n",
        " 'Last Name',\n",
        " 'Email',\n",
        " 'Class',\n",
        " 'Phone Numbers',\n",
        " 'DOB',\n",
        " 'Age',\n",
        " 'Educational Background',\n",
        " 'Gender',\n",
        " 'Developer Profile (Android or Full Stack)',\n",
        " 'Had a job before MS? (Yes or No)',\n",
        "]"
      ],
      "execution_count": 0,
      "outputs": []
    },
    {
      "cell_type": "code",
      "metadata": {
        "id": "K2GPOmupm5JY",
        "colab_type": "code",
        "outputId": "6d54982b-99c6-4cf5-d976-a8537c41b7e2",
        "colab": {
          "base_uri": "https://localhost:8080/",
          "height": 935
        }
      },
      "source": [
        "off_cols = ['Highest Education Background Completed', 'Date of Birth', 'Phone Number (s) (including country code)', 'Age (DO NOT EDIT)', 'Had a job before Moringa?', 'Graduate Profile']\n",
        "def list_contains(List1, List2): \n",
        "  \n",
        "    set1 = set(List1) \n",
        "    set2 = set(List2) \n",
        "    if set1.intersection(set2): \n",
        "        return True \n",
        "    else: \n",
        "        return False\n",
        "\n",
        "for k, v in outcomes_dfs.items():\n",
        "  if  list_contains(off_cols, v.columns.values.tolist()):\n",
        "    v.rename(columns={off_cols[0]: 'Educational Background', off_cols[1]: 'DOB', off_cols[2]: 'Phone Numbers', off_cols[3]: 'Age', off_cols[4]: 'Had a job before MS? (Yes or No)', off_cols[5]: 'Developer Profile (Android or Full Stack)'}, inplace=True)\n",
        "  outcomes_dfs[k] = v[must_cols]\n",
        "  print(k, ' new shape:', outcomes_dfs[k].shape)\n",
        "  print('*'*20)"
      ],
      "execution_count": 60,
      "outputs": [
        {
          "output_type": "stream",
          "text": [
            "cohort1  new shape: (4, 11)\n",
            "********************\n",
            "cohort2  new shape: (11, 11)\n",
            "********************\n",
            "cohort3  new shape: (11, 11)\n",
            "********************\n",
            "cohort4  new shape: (16, 11)\n",
            "********************\n",
            "cohort5  new shape: (10, 11)\n",
            "********************\n",
            "cohort6  new shape: (20, 11)\n",
            "********************\n",
            "cohort7  new shape: (26, 11)\n",
            "********************\n",
            "mc1  new shape: (24, 11)\n",
            "********************\n",
            "mc2  new shape: (11, 11)\n",
            "********************\n",
            "mc3  new shape: (18, 11)\n",
            "********************\n",
            "mc4  new shape: (17, 11)\n",
            "********************\n",
            "mc5  new shape: (11, 11)\n",
            "********************\n",
            "mc6  new shape: (6, 11)\n",
            "********************\n",
            "mc7  new shape: (11, 11)\n",
            "********************\n",
            "mc8  new shape: (28, 11)\n",
            "********************\n",
            "mc9  new shape: (17, 11)\n",
            "********************\n",
            "mc10  new shape: (24, 11)\n",
            "********************\n",
            "mc11  new shape: (44, 11)\n",
            "********************\n",
            "mc12  new shape: (21, 11)\n",
            "********************\n",
            "mc13  new shape: (22, 11)\n",
            "********************\n",
            "mc14  new shape: (34, 11)\n",
            "********************\n",
            "mc15-16  new shape: (56, 11)\n",
            "********************\n",
            "mc17  new shape: (35, 11)\n",
            "********************\n",
            "mc18  new shape: (38, 11)\n",
            "********************\n",
            "mc19  new shape: (16, 11)\n",
            "********************\n",
            "mc20  new shape: (37, 11)\n",
            "********************\n",
            "dsc1  new shape: (19, 11)\n",
            "********************\n"
          ],
          "name": "stdout"
        }
      ]
    },
    {
      "cell_type": "code",
      "metadata": {
        "id": "GcbqiJcIt8zH",
        "colab_type": "code",
        "colab": {
          "base_uri": "https://localhost:8080/",
          "height": 1000
        },
        "outputId": "cc63e862-2e2b-4385-8f9d-770e830beb4f"
      },
      "source": [
        "for k, v in outcomes_dfs.items():\n",
        "  print(k ,\"Had job before MS:\")\n",
        "  print(v['Had a job before MS? (Yes or No)'].value_counts(dropna=False))\n",
        "  print(\"*\"*20)"
      ],
      "execution_count": 62,
      "outputs": [
        {
          "output_type": "stream",
          "text": [
            "cohort1 Had job before MS:\n",
            "Yes    4\n",
            "Name: Had a job before MS? (Yes or No), dtype: int64\n",
            "********************\n",
            "cohort2 Had job before MS:\n",
            "       9\n",
            "No     1\n",
            "Yes    1\n",
            "Name: Had a job before MS? (Yes or No), dtype: int64\n",
            "********************\n",
            "cohort3 Had job before MS:\n",
            "No     10\n",
            "Yes     1\n",
            "Name: Had a job before MS? (Yes or No), dtype: int64\n",
            "********************\n",
            "cohort4 Had job before MS:\n",
            "Yes    13\n",
            "No      3\n",
            "Name: Had a job before MS? (Yes or No), dtype: int64\n",
            "********************\n",
            "cohort5 Had job before MS:\n",
            "Yes    8\n",
            "No     2\n",
            "Name: Had a job before MS? (Yes or No), dtype: int64\n",
            "********************\n",
            "cohort6 Had job before MS:\n",
            "Yes    18\n",
            "        2\n",
            "Name: Had a job before MS? (Yes or No), dtype: int64\n",
            "********************\n",
            "cohort7 Had job before MS:\n",
            "No     14\n",
            "        7\n",
            "Yes     5\n",
            "Name: Had a job before MS? (Yes or No), dtype: int64\n",
            "********************\n",
            "mc1 Had job before MS:\n",
            "No     10\n",
            "        8\n",
            "Yes     6\n",
            "Name: Had a job before MS? (Yes or No), dtype: int64\n",
            "********************\n",
            "mc2 Had job before MS:\n",
            "No     5\n",
            "Yes    4\n",
            "       2\n",
            "Name: Had a job before MS? (Yes or No), dtype: int64\n",
            "********************\n",
            "mc3 Had job before MS:\n",
            "No     10\n",
            "        7\n",
            "Yes     1\n",
            "Name: Had a job before MS? (Yes or No), dtype: int64\n",
            "********************\n",
            "mc4 Had job before MS:\n",
            "No     12\n",
            "Yes     5\n",
            "Name: Had a job before MS? (Yes or No), dtype: int64\n",
            "********************\n",
            "mc5 Had job before MS:\n",
            "No     8\n",
            "Yes    3\n",
            "Name: Had a job before MS? (Yes or No), dtype: int64\n",
            "********************\n",
            "mc6 Had job before MS:\n",
            "No    6\n",
            "Name: Had a job before MS? (Yes or No), dtype: int64\n",
            "********************\n",
            "mc7 Had job before MS:\n",
            "No     9\n",
            "Yes    2\n",
            "Name: Had a job before MS? (Yes or No), dtype: int64\n",
            "********************\n",
            "mc8 Had job before MS:\n",
            "No    28\n",
            "Name: Had a job before MS? (Yes or No), dtype: int64\n",
            "********************\n",
            "mc9 Had job before MS:\n",
            "No     14\n",
            "Yes     3\n",
            "Name: Had a job before MS? (Yes or No), dtype: int64\n",
            "********************\n",
            "mc10 Had job before MS:\n",
            "No     17\n",
            "Yes     7\n",
            "Name: Had a job before MS? (Yes or No), dtype: int64\n",
            "********************\n",
            "mc11 Had job before MS:\n",
            "No     38\n",
            "Yes     6\n",
            "Name: Had a job before MS? (Yes or No), dtype: int64\n",
            "********************\n",
            "mc12 Had job before MS:\n",
            "No     19\n",
            "Yes     2\n",
            "Name: Had a job before MS? (Yes or No), dtype: int64\n",
            "********************\n",
            "mc13 Had job before MS:\n",
            "No     12\n",
            "Yes    10\n",
            "Name: Had a job before MS? (Yes or No), dtype: int64\n",
            "********************\n",
            "mc14 Had job before MS:\n",
            "No     25\n",
            "Yes     8\n",
            "        1\n",
            "Name: Had a job before MS? (Yes or No), dtype: int64\n",
            "********************\n",
            "mc15-16 Had job before MS:\n",
            "      32\n",
            "No    24\n",
            "Name: Had a job before MS? (Yes or No), dtype: int64\n",
            "********************\n",
            "mc17 Had job before MS:\n",
            "      21\n",
            "No    14\n",
            "Name: Had a job before MS? (Yes or No), dtype: int64\n",
            "********************\n",
            "mc18 Had job before MS:\n",
            "No     24\n",
            "        8\n",
            "Yes     6\n",
            "Name: Had a job before MS? (Yes or No), dtype: int64\n",
            "********************\n",
            "mc19 Had job before MS:\n",
            "Yes    9\n",
            "No     7\n",
            "Name: Had a job before MS? (Yes or No), dtype: int64\n",
            "********************\n",
            "mc20 Had job before MS:\n",
            "No     21\n",
            "Yes    14\n",
            "        2\n",
            "Name: Had a job before MS? (Yes or No), dtype: int64\n",
            "********************\n",
            "dsc1 Had job before MS:\n",
            "Yes    16\n",
            "No      3\n",
            "Name: Had a job before MS? (Yes or No), dtype: int64\n",
            "********************\n"
          ],
          "name": "stdout"
        }
      ]
    },
    {
      "cell_type": "code",
      "metadata": {
        "id": "QNlql1mq_ep4",
        "colab_type": "code",
        "colab": {
          "base_uri": "https://localhost:8080/",
          "height": 34
        },
        "outputId": "d9db1759-27dc-474d-ba7c-7227e0deb5c8"
      },
      "source": [
        "!ls ."
      ],
      "execution_count": 66,
      "outputs": [
        {
          "output_type": "stream",
          "text": [
            "adc.json  sample_data\n"
          ],
          "name": "stdout"
        }
      ]
    },
    {
      "cell_type": "code",
      "metadata": {
        "id": "7ExhyhRV_zw2",
        "colab_type": "code",
        "colab": {}
      },
      "source": [
        "!touch outcomes_dfs.pkl ."
      ],
      "execution_count": 0,
      "outputs": []
    },
    {
      "cell_type": "code",
      "metadata": {
        "id": "_23-Uvzf8O_s",
        "colab_type": "code",
        "colab": {}
      },
      "source": [
        "import pickle\n",
        "\n",
        "outcomes_pkl = open('outcomes_dfs.pkl', 'wb')\n",
        "pickle.dump(outcomes_dfs, outcomes_pkl)"
      ],
      "execution_count": 0,
      "outputs": []
    },
    {
      "cell_type": "code",
      "metadata": {
        "id": "9H2Ginhg--fd",
        "colab_type": "code",
        "colab": {}
      },
      "source": [
        "outcomes_folder = '18X-08FsDF3MRZhfFW5BfONJ_s-8vQ85E'\n",
        "out_prp = drive.CreateFile({'parents': [{u'id': outcomes_folder}]})\n",
        "out_prp.SetContentFile('outcomes_dfs.pkl')\n",
        "out_prp.Upload()"
      ],
      "execution_count": 0,
      "outputs": []
    },
    {
      "cell_type": "code",
      "metadata": {
        "id": "Tl0E0VNXAB9d",
        "colab_type": "code",
        "colab": {}
      },
      "source": [
        "outcomes = pickle.load"
      ],
      "execution_count": 0,
      "outputs": []
    }
  ]
}