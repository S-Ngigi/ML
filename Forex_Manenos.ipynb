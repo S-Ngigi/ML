{
  "nbformat": 4,
  "nbformat_minor": 0,
  "metadata": {
    "colab": {
      "name": "Forex Manenos.ipynb",
      "provenance": [],
      "collapsed_sections": [],
      "authorship_tag": "ABX9TyPXR0i2M7gkdaWVbg3xQhFS",
      "include_colab_link": true
    },
    "kernelspec": {
      "name": "python3",
      "display_name": "Python 3"
    }
  },
  "cells": [
    {
      "cell_type": "markdown",
      "metadata": {
        "id": "view-in-github",
        "colab_type": "text"
      },
      "source": [
        "<a href=\"https://colab.research.google.com/github/S-Ngigi/ML/blob/master/Forex_Manenos.ipynb\" target=\"_parent\"><img src=\"https://colab.research.google.com/assets/colab-badge.svg\" alt=\"Open In Colab\"/></a>"
      ]
    },
    {
      "cell_type": "code",
      "metadata": {
        "id": "kUMu8WISAR8z",
        "colab_type": "code",
        "colab": {}
      },
      "source": [
        "from google.colab import files\n",
        "!pip install -q kaggle"
      ],
      "execution_count": 0,
      "outputs": []
    },
    {
      "cell_type": "code",
      "metadata": {
        "id": "lRLQfXPpCCub",
        "colab_type": "code",
        "outputId": "a16e15c4-fe88-4f61-e8dc-2fba5a1eb81b",
        "colab": {
          "resources": {
            "http://localhost:8080/nbextensions/google.colab/files.js": {
              "data": "Ly8gQ29weXJpZ2h0IDIwMTcgR29vZ2xlIExMQwovLwovLyBMaWNlbnNlZCB1bmRlciB0aGUgQXBhY2hlIExpY2Vuc2UsIFZlcnNpb24gMi4wICh0aGUgIkxpY2Vuc2UiKTsKLy8geW91IG1heSBub3QgdXNlIHRoaXMgZmlsZSBleGNlcHQgaW4gY29tcGxpYW5jZSB3aXRoIHRoZSBMaWNlbnNlLgovLyBZb3UgbWF5IG9idGFpbiBhIGNvcHkgb2YgdGhlIExpY2Vuc2UgYXQKLy8KLy8gICAgICBodHRwOi8vd3d3LmFwYWNoZS5vcmcvbGljZW5zZXMvTElDRU5TRS0yLjAKLy8KLy8gVW5sZXNzIHJlcXVpcmVkIGJ5IGFwcGxpY2FibGUgbGF3IG9yIGFncmVlZCB0byBpbiB3cml0aW5nLCBzb2Z0d2FyZQovLyBkaXN0cmlidXRlZCB1bmRlciB0aGUgTGljZW5zZSBpcyBkaXN0cmlidXRlZCBvbiBhbiAiQVMgSVMiIEJBU0lTLAovLyBXSVRIT1VUIFdBUlJBTlRJRVMgT1IgQ09ORElUSU9OUyBPRiBBTlkgS0lORCwgZWl0aGVyIGV4cHJlc3Mgb3IgaW1wbGllZC4KLy8gU2VlIHRoZSBMaWNlbnNlIGZvciB0aGUgc3BlY2lmaWMgbGFuZ3VhZ2UgZ292ZXJuaW5nIHBlcm1pc3Npb25zIGFuZAovLyBsaW1pdGF0aW9ucyB1bmRlciB0aGUgTGljZW5zZS4KCi8qKgogKiBAZmlsZW92ZXJ2aWV3IEhlbHBlcnMgZm9yIGdvb2dsZS5jb2xhYiBQeXRob24gbW9kdWxlLgogKi8KKGZ1bmN0aW9uKHNjb3BlKSB7CmZ1bmN0aW9uIHNwYW4odGV4dCwgc3R5bGVBdHRyaWJ1dGVzID0ge30pIHsKICBjb25zdCBlbGVtZW50ID0gZG9jdW1lbnQuY3JlYXRlRWxlbWVudCgnc3BhbicpOwogIGVsZW1lbnQudGV4dENvbnRlbnQgPSB0ZXh0OwogIGZvciAoY29uc3Qga2V5IG9mIE9iamVjdC5rZXlzKHN0eWxlQXR0cmlidXRlcykpIHsKICAgIGVsZW1lbnQuc3R5bGVba2V5XSA9IHN0eWxlQXR0cmlidXRlc1trZXldOwogIH0KICByZXR1cm4gZWxlbWVudDsKfQoKLy8gTWF4IG51bWJlciBvZiBieXRlcyB3aGljaCB3aWxsIGJlIHVwbG9hZGVkIGF0IGEgdGltZS4KY29uc3QgTUFYX1BBWUxPQURfU0laRSA9IDEwMCAqIDEwMjQ7Ci8vIE1heCBhbW91bnQgb2YgdGltZSB0byBibG9jayB3YWl0aW5nIGZvciB0aGUgdXNlci4KY29uc3QgRklMRV9DSEFOR0VfVElNRU9VVF9NUyA9IDMwICogMTAwMDsKCmZ1bmN0aW9uIF91cGxvYWRGaWxlcyhpbnB1dElkLCBvdXRwdXRJZCkgewogIGNvbnN0IHN0ZXBzID0gdXBsb2FkRmlsZXNTdGVwKGlucHV0SWQsIG91dHB1dElkKTsKICBjb25zdCBvdXRwdXRFbGVtZW50ID0gZG9jdW1lbnQuZ2V0RWxlbWVudEJ5SWQob3V0cHV0SWQpOwogIC8vIENhY2hlIHN0ZXBzIG9uIHRoZSBvdXRwdXRFbGVtZW50IHRvIG1ha2UgaXQgYXZhaWxhYmxlIGZvciB0aGUgbmV4dCBjYWxsCiAgLy8gdG8gdXBsb2FkRmlsZXNDb250aW51ZSBmcm9tIFB5dGhvbi4KICBvdXRwdXRFbGVtZW50LnN0ZXBzID0gc3RlcHM7CgogIHJldHVybiBfdXBsb2FkRmlsZXNDb250aW51ZShvdXRwdXRJZCk7Cn0KCi8vIFRoaXMgaXMgcm91Z2hseSBhbiBhc3luYyBnZW5lcmF0b3IgKG5vdCBzdXBwb3J0ZWQgaW4gdGhlIGJyb3dzZXIgeWV0KSwKLy8gd2hlcmUgdGhlcmUgYXJlIG11bHRpcGxlIGFzeW5jaHJvbm91cyBzdGVwcyBhbmQgdGhlIFB5dGhvbiBzaWRlIGlzIGdvaW5nCi8vIHRvIHBvbGwgZm9yIGNvbXBsZXRpb24gb2YgZWFjaCBzdGVwLgovLyBUaGlzIHVzZXMgYSBQcm9taXNlIHRvIGJsb2NrIHRoZSBweXRob24gc2lkZSBvbiBjb21wbGV0aW9uIG9mIGVhY2ggc3RlcCwKLy8gdGhlbiBwYXNzZXMgdGhlIHJlc3VsdCBvZiB0aGUgcHJldmlvdXMgc3RlcCBhcyB0aGUgaW5wdXQgdG8gdGhlIG5leHQgc3RlcC4KZnVuY3Rpb24gX3VwbG9hZEZpbGVzQ29udGludWUob3V0cHV0SWQpIHsKICBjb25zdCBvdXRwdXRFbGVtZW50ID0gZG9jdW1lbnQuZ2V0RWxlbWVudEJ5SWQob3V0cHV0SWQpOwogIGNvbnN0IHN0ZXBzID0gb3V0cHV0RWxlbWVudC5zdGVwczsKCiAgY29uc3QgbmV4dCA9IHN0ZXBzLm5leHQob3V0cHV0RWxlbWVudC5sYXN0UHJvbWlzZVZhbHVlKTsKICByZXR1cm4gUHJvbWlzZS5yZXNvbHZlKG5leHQudmFsdWUucHJvbWlzZSkudGhlbigodmFsdWUpID0+IHsKICAgIC8vIENhY2hlIHRoZSBsYXN0IHByb21pc2UgdmFsdWUgdG8gbWFrZSBpdCBhdmFpbGFibGUgdG8gdGhlIG5leHQKICAgIC8vIHN0ZXAgb2YgdGhlIGdlbmVyYXRvci4KICAgIG91dHB1dEVsZW1lbnQubGFzdFByb21pc2VWYWx1ZSA9IHZhbHVlOwogICAgcmV0dXJuIG5leHQudmFsdWUucmVzcG9uc2U7CiAgfSk7Cn0KCi8qKgogKiBHZW5lcmF0b3IgZnVuY3Rpb24gd2hpY2ggaXMgY2FsbGVkIGJldHdlZW4gZWFjaCBhc3luYyBzdGVwIG9mIHRoZSB1cGxvYWQKICogcHJvY2Vzcy4KICogQHBhcmFtIHtzdHJpbmd9IGlucHV0SWQgRWxlbWVudCBJRCBvZiB0aGUgaW5wdXQgZmlsZSBwaWNrZXIgZWxlbWVudC4KICogQHBhcmFtIHtzdHJpbmd9IG91dHB1dElkIEVsZW1lbnQgSUQgb2YgdGhlIG91dHB1dCBkaXNwbGF5LgogKiBAcmV0dXJuIHshSXRlcmFibGU8IU9iamVjdD59IEl0ZXJhYmxlIG9mIG5leHQgc3RlcHMuCiAqLwpmdW5jdGlvbiogdXBsb2FkRmlsZXNTdGVwKGlucHV0SWQsIG91dHB1dElkKSB7CiAgY29uc3QgaW5wdXRFbGVtZW50ID0gZG9jdW1lbnQuZ2V0RWxlbWVudEJ5SWQoaW5wdXRJZCk7CiAgaW5wdXRFbGVtZW50LmRpc2FibGVkID0gZmFsc2U7CgogIGNvbnN0IG91dHB1dEVsZW1lbnQgPSBkb2N1bWVudC5nZXRFbGVtZW50QnlJZChvdXRwdXRJZCk7CiAgb3V0cHV0RWxlbWVudC5pbm5lckhUTUwgPSAnJzsKCiAgY29uc3QgcGlja2VkUHJvbWlzZSA9IG5ldyBQcm9taXNlKChyZXNvbHZlKSA9PiB7CiAgICBpbnB1dEVsZW1lbnQuYWRkRXZlbnRMaXN0ZW5lcignY2hhbmdlJywgKGUpID0+IHsKICAgICAgcmVzb2x2ZShlLnRhcmdldC5maWxlcyk7CiAgICB9KTsKICB9KTsKCiAgY29uc3QgY2FuY2VsID0gZG9jdW1lbnQuY3JlYXRlRWxlbWVudCgnYnV0dG9uJyk7CiAgaW5wdXRFbGVtZW50LnBhcmVudEVsZW1lbnQuYXBwZW5kQ2hpbGQoY2FuY2VsKTsKICBjYW5jZWwudGV4dENvbnRlbnQgPSAnQ2FuY2VsIHVwbG9hZCc7CiAgY29uc3QgY2FuY2VsUHJvbWlzZSA9IG5ldyBQcm9taXNlKChyZXNvbHZlKSA9PiB7CiAgICBjYW5jZWwub25jbGljayA9ICgpID0+IHsKICAgICAgcmVzb2x2ZShudWxsKTsKICAgIH07CiAgfSk7CgogIC8vIENhbmNlbCB1cGxvYWQgaWYgdXNlciBoYXNuJ3QgcGlja2VkIGFueXRoaW5nIGluIHRpbWVvdXQuCiAgY29uc3QgdGltZW91dFByb21pc2UgPSBuZXcgUHJvbWlzZSgocmVzb2x2ZSkgPT4gewogICAgc2V0VGltZW91dCgoKSA9PiB7CiAgICAgIHJlc29sdmUobnVsbCk7CiAgICB9LCBGSUxFX0NIQU5HRV9USU1FT1VUX01TKTsKICB9KTsKCiAgLy8gV2FpdCBmb3IgdGhlIHVzZXIgdG8gcGljayB0aGUgZmlsZXMuCiAgY29uc3QgZmlsZXMgPSB5aWVsZCB7CiAgICBwcm9taXNlOiBQcm9taXNlLnJhY2UoW3BpY2tlZFByb21pc2UsIHRpbWVvdXRQcm9taXNlLCBjYW5jZWxQcm9taXNlXSksCiAgICByZXNwb25zZTogewogICAgICBhY3Rpb246ICdzdGFydGluZycsCiAgICB9CiAgfTsKCiAgaWYgKCFmaWxlcykgewogICAgcmV0dXJuIHsKICAgICAgcmVzcG9uc2U6IHsKICAgICAgICBhY3Rpb246ICdjb21wbGV0ZScsCiAgICAgIH0KICAgIH07CiAgfQoKICBjYW5jZWwucmVtb3ZlKCk7CgogIC8vIERpc2FibGUgdGhlIGlucHV0IGVsZW1lbnQgc2luY2UgZnVydGhlciBwaWNrcyBhcmUgbm90IGFsbG93ZWQuCiAgaW5wdXRFbGVtZW50LmRpc2FibGVkID0gdHJ1ZTsKCiAgZm9yIChjb25zdCBmaWxlIG9mIGZpbGVzKSB7CiAgICBjb25zdCBsaSA9IGRvY3VtZW50LmNyZWF0ZUVsZW1lbnQoJ2xpJyk7CiAgICBsaS5hcHBlbmQoc3BhbihmaWxlLm5hbWUsIHtmb250V2VpZ2h0OiAnYm9sZCd9KSk7CiAgICBsaS5hcHBlbmQoc3BhbigKICAgICAgICBgKCR7ZmlsZS50eXBlIHx8ICduL2EnfSkgLSAke2ZpbGUuc2l6ZX0gYnl0ZXMsIGAgKwogICAgICAgIGBsYXN0IG1vZGlmaWVkOiAkewogICAgICAgICAgICBmaWxlLmxhc3RNb2RpZmllZERhdGUgPyBmaWxlLmxhc3RNb2RpZmllZERhdGUudG9Mb2NhbGVEYXRlU3RyaW5nKCkgOgogICAgICAgICAgICAgICAgICAgICAgICAgICAgICAgICAgICAnbi9hJ30gLSBgKSk7CiAgICBjb25zdCBwZXJjZW50ID0gc3BhbignMCUgZG9uZScpOwogICAgbGkuYXBwZW5kQ2hpbGQocGVyY2VudCk7CgogICAgb3V0cHV0RWxlbWVudC5hcHBlbmRDaGlsZChsaSk7CgogICAgY29uc3QgZmlsZURhdGFQcm9taXNlID0gbmV3IFByb21pc2UoKHJlc29sdmUpID0+IHsKICAgICAgY29uc3QgcmVhZGVyID0gbmV3IEZpbGVSZWFkZXIoKTsKICAgICAgcmVhZGVyLm9ubG9hZCA9IChlKSA9PiB7CiAgICAgICAgcmVzb2x2ZShlLnRhcmdldC5yZXN1bHQpOwogICAgICB9OwogICAgICByZWFkZXIucmVhZEFzQXJyYXlCdWZmZXIoZmlsZSk7CiAgICB9KTsKICAgIC8vIFdhaXQgZm9yIHRoZSBkYXRhIHRvIGJlIHJlYWR5LgogICAgbGV0IGZpbGVEYXRhID0geWllbGQgewogICAgICBwcm9taXNlOiBmaWxlRGF0YVByb21pc2UsCiAgICAgIHJlc3BvbnNlOiB7CiAgICAgICAgYWN0aW9uOiAnY29udGludWUnLAogICAgICB9CiAgICB9OwoKICAgIC8vIFVzZSBhIGNodW5rZWQgc2VuZGluZyB0byBhdm9pZCBtZXNzYWdlIHNpemUgbGltaXRzLiBTZWUgYi82MjExNTY2MC4KICAgIGxldCBwb3NpdGlvbiA9IDA7CiAgICB3aGlsZSAocG9zaXRpb24gPCBmaWxlRGF0YS5ieXRlTGVuZ3RoKSB7CiAgICAgIGNvbnN0IGxlbmd0aCA9IE1hdGgubWluKGZpbGVEYXRhLmJ5dGVMZW5ndGggLSBwb3NpdGlvbiwgTUFYX1BBWUxPQURfU0laRSk7CiAgICAgIGNvbnN0IGNodW5rID0gbmV3IFVpbnQ4QXJyYXkoZmlsZURhdGEsIHBvc2l0aW9uLCBsZW5ndGgpOwogICAgICBwb3NpdGlvbiArPSBsZW5ndGg7CgogICAgICBjb25zdCBiYXNlNjQgPSBidG9hKFN0cmluZy5mcm9tQ2hhckNvZGUuYXBwbHkobnVsbCwgY2h1bmspKTsKICAgICAgeWllbGQgewogICAgICAgIHJlc3BvbnNlOiB7CiAgICAgICAgICBhY3Rpb246ICdhcHBlbmQnLAogICAgICAgICAgZmlsZTogZmlsZS5uYW1lLAogICAgICAgICAgZGF0YTogYmFzZTY0LAogICAgICAgIH0sCiAgICAgIH07CiAgICAgIHBlcmNlbnQudGV4dENvbnRlbnQgPQogICAgICAgICAgYCR7TWF0aC5yb3VuZCgocG9zaXRpb24gLyBmaWxlRGF0YS5ieXRlTGVuZ3RoKSAqIDEwMCl9JSBkb25lYDsKICAgIH0KICB9CgogIC8vIEFsbCBkb25lLgogIHlpZWxkIHsKICAgIHJlc3BvbnNlOiB7CiAgICAgIGFjdGlvbjogJ2NvbXBsZXRlJywKICAgIH0KICB9Owp9CgpzY29wZS5nb29nbGUgPSBzY29wZS5nb29nbGUgfHwge307CnNjb3BlLmdvb2dsZS5jb2xhYiA9IHNjb3BlLmdvb2dsZS5jb2xhYiB8fCB7fTsKc2NvcGUuZ29vZ2xlLmNvbGFiLl9maWxlcyA9IHsKICBfdXBsb2FkRmlsZXMsCiAgX3VwbG9hZEZpbGVzQ29udGludWUsCn07Cn0pKHNlbGYpOwo=",
              "ok": true,
              "headers": [
                [
                  "content-type",
                  "application/javascript"
                ]
              ],
              "status": 200,
              "status_text": ""
            }
          },
          "base_uri": "https://localhost:8080/",
          "height": 74
        }
      },
      "source": [
        "uploaded = files.upload()"
      ],
      "execution_count": 4,
      "outputs": [
        {
          "output_type": "display_data",
          "data": {
            "text/html": [
              "\n",
              "     <input type=\"file\" id=\"files-add24f79-ca4e-4f94-bfb8-b23580b802d8\" name=\"files[]\" multiple disabled />\n",
              "     <output id=\"result-add24f79-ca4e-4f94-bfb8-b23580b802d8\">\n",
              "      Upload widget is only available when the cell has been executed in the\n",
              "      current browser session. Please rerun this cell to enable.\n",
              "      </output>\n",
              "      <script src=\"/nbextensions/google.colab/files.js\"></script> "
            ],
            "text/plain": [
              "<IPython.core.display.HTML object>"
            ]
          },
          "metadata": {
            "tags": []
          }
        },
        {
          "output_type": "stream",
          "text": [
            "Saving kaggle.json to kaggle.json\n"
          ],
          "name": "stdout"
        }
      ]
    },
    {
      "cell_type": "code",
      "metadata": {
        "id": "70tfbK-tCSfD",
        "colab_type": "code",
        "colab": {}
      },
      "source": [
        "!mkdir .kaggle && mv kaggle.json .kaggle && mv .kaggle /root/\n",
        "!chmod 600 /root/.kaggle/kaggle.json"
      ],
      "execution_count": 0,
      "outputs": []
    },
    {
      "cell_type": "code",
      "metadata": {
        "id": "CYy-OSPPALJ-",
        "colab_type": "code",
        "outputId": "ec36dc9c-d543-4a58-c88b-336260e9af69",
        "colab": {
          "base_uri": "https://localhost:8080/",
          "height": 68
        }
      },
      "source": [
        "!kaggle datasets download -d imetomi/eur-usd-forex-pair-historical-data-2002-2019"
      ],
      "execution_count": 6,
      "outputs": [
        {
          "output_type": "stream",
          "text": [
            "Downloading eur-usd-forex-pair-historical-data-2002-2019.zip to /content\n",
            " 85% 89.0M/105M [00:01<00:00, 52.2MB/s]\n",
            "100% 105M/105M [00:01<00:00, 60.6MB/s] \n"
          ],
          "name": "stdout"
        }
      ]
    },
    {
      "cell_type": "code",
      "metadata": {
        "id": "FZnHMEWb7U6C",
        "colab_type": "code",
        "outputId": "5b397ce4-6af7-442f-9cb0-cac04bc7fdd6",
        "colab": {
          "base_uri": "https://localhost:8080/",
          "height": 68
        }
      },
      "source": [
        "!kaggle datasets download -d maheshtaank/eurusd-daily"
      ],
      "execution_count": 7,
      "outputs": [
        {
          "output_type": "stream",
          "text": [
            "Downloading eurusd-daily.zip to /content\n",
            "\r  0% 0.00/171k [00:00<?, ?B/s]\n",
            "\r100% 171k/171k [00:00<00:00, 52.7MB/s]\n"
          ],
          "name": "stdout"
        }
      ]
    },
    {
      "cell_type": "code",
      "metadata": {
        "id": "VRwxI8niCWFc",
        "colab_type": "code",
        "outputId": "867c9186-bbe2-46fa-aaae-fc351949adcc",
        "colab": {
          "base_uri": "https://localhost:8080/",
          "height": 71
        }
      },
      "source": [
        "import sys\n",
        "import pandas as pd\n",
        "import numpy as np\n",
        "import matplotlib\n",
        "import matplotlib.pyplot as plt\n",
        "plt.style.use('seaborn-whitegrid')\n",
        "import seaborn as sns\n",
        "\n",
        "from sklearn.svm import SVR\n",
        "from sklearn.linear_model import LinearRegression, SGDRegressor\n",
        "from sklearn.ensemble import BaggingRegressor, RandomForestRegressor\n",
        "\n",
        "from sklearn.preprocessing import StandardScaler, MinMaxScaler\n",
        "\n",
        "from sklearn.metrics import mean_squared_error, mean_absolute_error, r2_score\n",
        "from sklearn.externals import joblib\n",
        "from sklearn.model_selection import GridSearchCV, train_test_split\n",
        "\n",
        "import xgboost\n",
        "from xgboost import XGBRegressor\n",
        "\n",
        "from zipfile import ZipFile as zp"
      ],
      "execution_count": 8,
      "outputs": [
        {
          "output_type": "stream",
          "text": [
            "/usr/local/lib/python3.6/dist-packages/sklearn/externals/joblib/__init__.py:15: FutureWarning: sklearn.externals.joblib is deprecated in 0.21 and will be removed in 0.23. Please import this functionality directly from joblib, which can be installed with: pip install joblib. If this warning is raised when loading pickled models, you may need to re-serialize those models with scikit-learn 0.21+.\n",
            "  warnings.warn(msg, category=FutureWarning)\n"
          ],
          "name": "stderr"
        }
      ]
    },
    {
      "cell_type": "code",
      "metadata": {
        "id": "QOZ38MnFDr-_",
        "colab_type": "code",
        "colab": {}
      },
      "source": [
        "test_1 =zp('/content/eur-usd-forex-pair-historical-data-2002-2019.zip', 'r')\n",
        "test_2 =zp('/content/eurusd-daily.zip', 'r')"
      ],
      "execution_count": 0,
      "outputs": []
    },
    {
      "cell_type": "code",
      "metadata": {
        "id": "qO68B6fFFPU7",
        "colab_type": "code",
        "outputId": "d26351db-0f8a-4f36-ccc9-0e1bd5f78498",
        "colab": {
          "base_uri": "https://localhost:8080/",
          "height": 51
        }
      },
      "source": [
        "print(test_1.namelist())\n",
        "print(test_2.namelist())"
      ],
      "execution_count": 10,
      "outputs": [
        {
          "output_type": "stream",
          "text": [
            "['eurusd_hour.csv', 'eurusd_minute.csv', 'eurusd_news.csv']\n",
            "['eu.csv']\n"
          ],
          "name": "stdout"
        }
      ]
    },
    {
      "cell_type": "code",
      "metadata": {
        "id": "OyXHEhU3FSeh",
        "colab_type": "code",
        "outputId": "d408f469-11aa-4820-8266-495e69748067",
        "colab": {
          "base_uri": "https://localhost:8080/",
          "height": 357
        }
      },
      "source": [
        "eu_1 = pd.read_csv(test_1.open('eurusd_hour.csv'), index_col=0, parse_dates=True, skipinitialspace=True)\n",
        "eu_2 = pd.read_csv(test_2.open('eu.csv'), index_col=0, parse_dates=True, skipinitialspace=True)\n",
        "print(eu_1.shape)\n",
        "eu_1.head()"
      ],
      "execution_count": 11,
      "outputs": [
        {
          "output_type": "stream",
          "text": [
            "(90232, 11)\n"
          ],
          "name": "stdout"
        },
        {
          "output_type": "execute_result",
          "data": {
            "text/html": [
              "<div>\n",
              "<style scoped>\n",
              "    .dataframe tbody tr th:only-of-type {\n",
              "        vertical-align: middle;\n",
              "    }\n",
              "\n",
              "    .dataframe tbody tr th {\n",
              "        vertical-align: top;\n",
              "    }\n",
              "\n",
              "    .dataframe thead th {\n",
              "        text-align: right;\n",
              "    }\n",
              "</style>\n",
              "<table border=\"1\" class=\"dataframe\">\n",
              "  <thead>\n",
              "    <tr style=\"text-align: right;\">\n",
              "      <th></th>\n",
              "      <th>Hour</th>\n",
              "      <th>BidOpen</th>\n",
              "      <th>BidHigh</th>\n",
              "      <th>BidLow</th>\n",
              "      <th>BidClose</th>\n",
              "      <th>BidChange</th>\n",
              "      <th>AskOpen</th>\n",
              "      <th>AskHigh</th>\n",
              "      <th>AskLow</th>\n",
              "      <th>AskClose</th>\n",
              "      <th>AskChange</th>\n",
              "    </tr>\n",
              "    <tr>\n",
              "      <th>Date</th>\n",
              "      <th></th>\n",
              "      <th></th>\n",
              "      <th></th>\n",
              "      <th></th>\n",
              "      <th></th>\n",
              "      <th></th>\n",
              "      <th></th>\n",
              "      <th></th>\n",
              "      <th></th>\n",
              "      <th></th>\n",
              "      <th></th>\n",
              "    </tr>\n",
              "  </thead>\n",
              "  <tbody>\n",
              "    <tr>\n",
              "      <th>2002-05-05</th>\n",
              "      <td>19:00</td>\n",
              "      <td>0.9168</td>\n",
              "      <td>0.9168</td>\n",
              "      <td>0.9168</td>\n",
              "      <td>0.9168</td>\n",
              "      <td>0.0</td>\n",
              "      <td>0.9178</td>\n",
              "      <td>0.9178</td>\n",
              "      <td>0.9178</td>\n",
              "      <td>0.9178</td>\n",
              "      <td>0.0</td>\n",
              "    </tr>\n",
              "    <tr>\n",
              "      <th>2002-05-06</th>\n",
              "      <td>20:00</td>\n",
              "      <td>0.9181</td>\n",
              "      <td>0.9181</td>\n",
              "      <td>0.9181</td>\n",
              "      <td>0.9181</td>\n",
              "      <td>0.0</td>\n",
              "      <td>0.9184</td>\n",
              "      <td>0.9184</td>\n",
              "      <td>0.9184</td>\n",
              "      <td>0.9184</td>\n",
              "      <td>0.0</td>\n",
              "    </tr>\n",
              "    <tr>\n",
              "      <th>2002-05-07</th>\n",
              "      <td>20:00</td>\n",
              "      <td>0.9152</td>\n",
              "      <td>0.9152</td>\n",
              "      <td>0.9152</td>\n",
              "      <td>0.9152</td>\n",
              "      <td>0.0</td>\n",
              "      <td>0.9155</td>\n",
              "      <td>0.9155</td>\n",
              "      <td>0.9155</td>\n",
              "      <td>0.9155</td>\n",
              "      <td>0.0</td>\n",
              "    </tr>\n",
              "    <tr>\n",
              "      <th>2002-05-08</th>\n",
              "      <td>20:00</td>\n",
              "      <td>0.9042</td>\n",
              "      <td>0.9042</td>\n",
              "      <td>0.9042</td>\n",
              "      <td>0.9042</td>\n",
              "      <td>0.0</td>\n",
              "      <td>0.9045</td>\n",
              "      <td>0.9045</td>\n",
              "      <td>0.9045</td>\n",
              "      <td>0.9045</td>\n",
              "      <td>0.0</td>\n",
              "    </tr>\n",
              "    <tr>\n",
              "      <th>2002-05-09</th>\n",
              "      <td>20:00</td>\n",
              "      <td>0.9092</td>\n",
              "      <td>0.9092</td>\n",
              "      <td>0.9092</td>\n",
              "      <td>0.9092</td>\n",
              "      <td>0.0</td>\n",
              "      <td>0.9095</td>\n",
              "      <td>0.9095</td>\n",
              "      <td>0.9095</td>\n",
              "      <td>0.9095</td>\n",
              "      <td>0.0</td>\n",
              "    </tr>\n",
              "  </tbody>\n",
              "</table>\n",
              "</div>"
            ],
            "text/plain": [
              "             Hour  BidOpen  BidHigh  ...  AskLow  AskClose  AskChange\n",
              "Date                                 ...                             \n",
              "2002-05-05  19:00   0.9168   0.9168  ...  0.9178    0.9178        0.0\n",
              "2002-05-06  20:00   0.9181   0.9181  ...  0.9184    0.9184        0.0\n",
              "2002-05-07  20:00   0.9152   0.9152  ...  0.9155    0.9155        0.0\n",
              "2002-05-08  20:00   0.9042   0.9042  ...  0.9045    0.9045        0.0\n",
              "2002-05-09  20:00   0.9092   0.9092  ...  0.9095    0.9095        0.0\n",
              "\n",
              "[5 rows x 11 columns]"
            ]
          },
          "metadata": {
            "tags": []
          },
          "execution_count": 11
        }
      ]
    },
    {
      "cell_type": "code",
      "metadata": {
        "id": "vEF7rj-5F-Ha",
        "colab_type": "code",
        "colab": {
          "base_uri": "https://localhost:8080/",
          "height": 221
        },
        "outputId": "543aecd8-6bfc-4485-dee5-bee7ea6e7921"
      },
      "source": [
        "print(eu_2.shape)\n",
        "eu_2.head()"
      ],
      "execution_count": 12,
      "outputs": [
        {
          "output_type": "stream",
          "text": [
            "(12115, 6)\n"
          ],
          "name": "stdout"
        },
        {
          "output_type": "execute_result",
          "data": {
            "text/html": [
              "<div>\n",
              "<style scoped>\n",
              "    .dataframe tbody tr th:only-of-type {\n",
              "        vertical-align: middle;\n",
              "    }\n",
              "\n",
              "    .dataframe tbody tr th {\n",
              "        vertical-align: top;\n",
              "    }\n",
              "\n",
              "    .dataframe thead th {\n",
              "        text-align: right;\n",
              "    }\n",
              "</style>\n",
              "<table border=\"1\" class=\"dataframe\">\n",
              "  <thead>\n",
              "    <tr style=\"text-align: right;\">\n",
              "      <th></th>\n",
              "      <th>date</th>\n",
              "      <th>open</th>\n",
              "      <th>high</th>\n",
              "      <th>low</th>\n",
              "      <th>close</th>\n",
              "      <th>volume</th>\n",
              "    </tr>\n",
              "  </thead>\n",
              "  <tbody>\n",
              "    <tr>\n",
              "      <th>1971-01-04</th>\n",
              "      <td>00:00</td>\n",
              "      <td>0.5369</td>\n",
              "      <td>0.5369</td>\n",
              "      <td>0.5369</td>\n",
              "      <td>0.5369</td>\n",
              "      <td>1</td>\n",
              "    </tr>\n",
              "    <tr>\n",
              "      <th>1971-01-05</th>\n",
              "      <td>00:00</td>\n",
              "      <td>0.5366</td>\n",
              "      <td>0.5366</td>\n",
              "      <td>0.5366</td>\n",
              "      <td>0.5366</td>\n",
              "      <td>1</td>\n",
              "    </tr>\n",
              "    <tr>\n",
              "      <th>1971-01-06</th>\n",
              "      <td>00:00</td>\n",
              "      <td>0.5365</td>\n",
              "      <td>0.5365</td>\n",
              "      <td>0.5365</td>\n",
              "      <td>0.5365</td>\n",
              "      <td>1</td>\n",
              "    </tr>\n",
              "    <tr>\n",
              "      <th>1971-01-07</th>\n",
              "      <td>00:00</td>\n",
              "      <td>0.5368</td>\n",
              "      <td>0.5368</td>\n",
              "      <td>0.5368</td>\n",
              "      <td>0.5368</td>\n",
              "      <td>1</td>\n",
              "    </tr>\n",
              "    <tr>\n",
              "      <th>1971-01-08</th>\n",
              "      <td>00:00</td>\n",
              "      <td>0.5371</td>\n",
              "      <td>0.5371</td>\n",
              "      <td>0.5371</td>\n",
              "      <td>0.5371</td>\n",
              "      <td>1</td>\n",
              "    </tr>\n",
              "  </tbody>\n",
              "</table>\n",
              "</div>"
            ],
            "text/plain": [
              "             date    open    high     low   close  volume\n",
              "1971-01-04  00:00  0.5369  0.5369  0.5369  0.5369       1\n",
              "1971-01-05  00:00  0.5366  0.5366  0.5366  0.5366       1\n",
              "1971-01-06  00:00  0.5365  0.5365  0.5365  0.5365       1\n",
              "1971-01-07  00:00  0.5368  0.5368  0.5368  0.5368       1\n",
              "1971-01-08  00:00  0.5371  0.5371  0.5371  0.5371       1"
            ]
          },
          "metadata": {
            "tags": []
          },
          "execution_count": 12
        }
      ]
    },
    {
      "cell_type": "code",
      "metadata": {
        "id": "eKGaBNVSW9Yl",
        "colab_type": "code",
        "colab": {
          "base_uri": "https://localhost:8080/",
          "height": 508
        },
        "outputId": "f47dc90a-2181-4516-e097-18b9ccc55ef4"
      },
      "source": [
        "plt.figure(figsize=(15, 6))\n",
        "plt.plot(eu_2.close)\n",
        "plt.title('Euro vs USD close prices')\n",
        "# plt.legend()\n",
        "plt.show()"
      ],
      "execution_count": 13,
      "outputs": [
        {
          "output_type": "stream",
          "text": [
            "/usr/local/lib/python3.6/dist-packages/pandas/plotting/_matplotlib/converter.py:103: FutureWarning: Using an implicitly registered datetime converter for a matplotlib plotting method. The converter was registered by pandas on import. Future versions of pandas will require you to explicitly register matplotlib converters.\n",
            "\n",
            "To register the converters:\n",
            "\t>>> from pandas.plotting import register_matplotlib_converters\n",
            "\t>>> register_matplotlib_converters()\n",
            "  warnings.warn(msg, FutureWarning)\n"
          ],
          "name": "stderr"
        },
        {
          "output_type": "display_data",
          "data": {
            "image/png": "[encoded data removed]",
            "text/plain": [
              "<Figure size 1080x432 with 1 Axes>"
            ]
          },
          "metadata": {
            "tags": []
          }
        }
      ]
    },
    {
      "cell_type": "code",
      "metadata": {
        "id": "3PG75xLXXUwg",
        "colab_type": "code",
        "colab": {
          "base_uri": "https://localhost:8080/",
          "height": 277
        },
        "outputId": "8884694b-0ac7-498a-e10b-9b62d1346366"
      },
      "source": [
        "# Plotting box plots for all other features except volume\n",
        "eu_2.drop('volume', axis=1).boxplot()\n",
        "plt.title('Euro x USD box plots')\n",
        "plt.show()"
      ],
      "execution_count": 14,
      "outputs": [
        {
          "output_type": "display_data",
          "data": {
            "image/png": "[encoded data removed]",
            "text/plain": [
              "<Figure size 432x288 with 1 Axes>"
            ]
          },
          "metadata": {
            "tags": []
          }
        }
      ]
    },
    {
      "cell_type": "markdown",
      "metadata": {
        "id": "s2O93A8EYT9n",
        "colab_type": "text"
      },
      "source": [
        "It would seem that the value of most prices were the same.\n",
        "\n",
        "Below we plot the box whisker distribution of the volume."
      ]
    },
    {
      "cell_type": "code",
      "metadata": {
        "id": "Vkvj0UjPXyoN",
        "colab_type": "code",
        "colab": {
          "base_uri": "https://localhost:8080/",
          "height": 279
        },
        "outputId": "d673f3bc-e6a9-4a9c-f362-d27b5b92a974"
      },
      "source": [
        "eu_2[['volume']].boxplot()"
      ],
      "execution_count": 15,
      "outputs": [
        {
          "output_type": "execute_result",
          "data": {
            "text/plain": [
              "<matplotlib.axes._subplots.AxesSubplot at 0x7f5946988b38>"
            ]
          },
          "metadata": {
            "tags": []
          },
          "execution_count": 15
        },
        {
          "output_type": "display_data",
          "data": {
            "image/png": "[encoded data removed]",
            "text/plain": [
              "<Figure size 432x288 with 1 Axes>"
            ]
          },
          "metadata": {
            "tags": []
          }
        }
      ]
    },
    {
      "cell_type": "code",
      "metadata": {
        "id": "9yzqC30yZvMV",
        "colab_type": "code",
        "colab": {
          "base_uri": "https://localhost:8080/",
          "height": 279
        },
        "outputId": "f3f5752e-e89f-4f57-8412-1122a64147d8"
      },
      "source": [
        "# Creating outlier removal helper function\n",
        "def outlier_dealer(df_series):\n",
        "  series = df_series\n",
        "  # Removing outlier above: Cut off value is the mean + 3 times the std\n",
        "  high_cut = series.std()*3 + series.mean()\n",
        "  series[series > high_cut] =high_cut\n",
        "\n",
        "  # Removing outlier below: Cut off value is the mean - 3 times the std\n",
        "  low_cut = series.mean() - series.std()*3\n",
        "  series[series < low_cut] = low_cut\n",
        "  \n",
        "  return series\n",
        "\n",
        "outlier_dealer(eu_2['volume']).plot.box()"
      ],
      "execution_count": 18,
      "outputs": [
        {
          "output_type": "execute_result",
          "data": {
            "text/plain": [
              "<matplotlib.axes._subplots.AxesSubplot at 0x7f594677b518>"
            ]
          },
          "metadata": {
            "tags": []
          },
          "execution_count": 18
        },
        {
          "output_type": "display_data",
          "data": {
            "image/png": "[encoded data removed]",
            "text/plain": [
              "<Figure size 432x288 with 1 Axes>"
            ]
          },
          "metadata": {
            "tags": []
          }
        }
      ]
    },
    {
      "cell_type": "markdown",
      "metadata": {
        "id": "DjoLbQ5J9Bl1",
        "colab_type": "text"
      },
      "source": [
        "Checking effect of removing the outliers\n",
        "\n",
        "Below we replace volume with series without outliers and check if we get the same results."
      ]
    },
    {
      "cell_type": "code",
      "metadata": {
        "id": "ucIEU7DZ5idh",
        "colab_type": "code",
        "colab": {
          "base_uri": "https://localhost:8080/",
          "height": 279
        },
        "outputId": "9ae49f65-aa3e-4eb6-d303-b198ecc484be"
      },
      "source": [
        "eu_2['volume'] = outlier_dealer(eu_2['volume'])\n",
        "eu_2[['volume']].boxplot()"
      ],
      "execution_count": 19,
      "outputs": [
        {
          "output_type": "execute_result",
          "data": {
            "text/plain": [
              "<matplotlib.axes._subplots.AxesSubplot at 0x7f59466f1dd8>"
            ]
          },
          "metadata": {
            "tags": []
          },
          "execution_count": 19
        },
        {
          "output_type": "display_data",
          "data": {
            "image/png": "[encoded data removed]",
            "text/plain": [
              "<Figure size 432x288 with 1 Axes>"
            ]
          },
          "metadata": {
            "tags": []
          }
        }
      ]
    },
    {
      "cell_type": "code",
      "metadata": {
        "id": "jdsMggvpAsuh",
        "colab_type": "code",
        "colab": {
          "base_uri": "https://localhost:8080/",
          "height": 309
        },
        "outputId": "9b23f06b-ccf3-4a39-8d01-cfd071097664"
      },
      "source": [
        "def gen_feat(df):\n",
        "  df_new = pd.DataFrame()\n",
        "\n",
        "  # Og features\n",
        "  df_new['open'] = df['open']\n",
        "  df_new['open_1'] = df['open'].shift(1)\n",
        "  df_new['close_1'] = df['close'].shift(1)\n",
        "  df_new['high_1'] = df['high'].shift(1)\n",
        "  df_new['low_1'] = df['low'].shift(1)\n",
        "  df_new['volume_1'] = df['volume'].shift(1)\n",
        "\n",
        "  # average price features\n",
        "  df_new['avg_price_wk'] = df['close'].rolling(window=5).mean().shift(1)\n",
        "  df_new['avg_price_mnth'] = df['close'].rolling(window=21).mean().shift(1)\n",
        "  df_new['avg_price_3mnth'] = df['close'].rolling(window=63).mean().shift(1)\n",
        "  df_new['avg_price_yr'] = df['close'].rolling(window=252).mean().shift(1)\n",
        "\n",
        "  # average price ratio\n",
        "  df_new['wk_mnth_ratio_pra'] = df_new['avg_price_wk']/df_new['avg_price_mnth']\n",
        "  df_new['wk_3mnth_ratio_pra'] = df_new['avg_price_wk']/df_new['avg_price_3mnth']\n",
        "  df_new['wk_yr_ratio_pra'] = df_new['avg_price_wk']/df_new['avg_price_yr']\n",
        "  df_new['mnth_3mnth_ratio_pra'] = df_new['avg_price_mnth']/df_new['avg_price_3mnth']\n",
        "  df_new['mnth_yr_ratio_pra'] = df_new['avg_price_mnth']/df_new['avg_price_yr']\n",
        "  df_new['3mnth_yr_ratio_pra'] = df_new['avg_price_3mnth']/df_new['avg_price_yr']\n",
        "\n",
        "   # standard dev price features\n",
        "  df_new['std_price_wk'] = df['close'].rolling(window=5).std().shift(1)\n",
        "  df_new['std_price_mnth'] = df['close'].rolling(window=21).std().shift(1)\n",
        "  df_new['std_price_3mnth'] = df['close'].rolling(window=63).std().shift(1)\n",
        "  df_new['std_price_yr'] = df['close'].rolling(window=252).std().shift(1)\n",
        "\n",
        "  # standard dev price ratio\n",
        "  df_new['wk_mnth_ratio_prs'] = df_new['std_price_wk']/df_new['std_price_mnth']\n",
        "  df_new['wk_3mnth_ratio_prs'] = df_new['std_price_wk']/df_new['std_price_3mnth']\n",
        "  df_new['wk_yr_ratio_prs'] = df_new['std_price_wk']/df_new['std_price_3mnth']\n",
        "  df_new['mnth_3mnth_ratio_prs'] = df_new['std_price_mnth']/df_new['std_price_yr']\n",
        "  df_new['mnth_yr_ratio_prs'] = df_new['std_price_mnth']/df_new['std_price_yr']\n",
        "  df_new['3mnth_yr_ratio_prs'] = df_new['std_price_3mnth']/df_new['std_price_yr']\n",
        "\n",
        "  # average volume\n",
        "  df_new['avg_vol_wk'] = df['volume'].rolling(window=5).mean().shift(1)\n",
        "  df_new['avg_vol_mnth'] = df['volume'].rolling(window=21).mean().shift(1)\n",
        "  df_new['avg_vol_3mnth'] = df['volume'].rolling(window=63).mean().shift(1)\n",
        "  df_new['avg_vol_yr'] = df['volume'].rolling(window=252).mean().shift(1)\n",
        "\n",
        "  # Average volume ratios\n",
        "  df_new['wk_mnth_ratio_vola'] = df_new['avg_vol_wk']/df_new['avg_vol_mnth']\n",
        "  df_new['wk_3mnth_ratio_vola'] = df_new['avg_vol_wk']/df_new['avg_vol_3mnth']\n",
        "  df_new['wk_yr_ratio_vola'] = df_new['avg_vol_wk']/df_new['avg_vol_yr']\n",
        "  df_new['mnth_3mnth_ratio_vola'] = df_new['avg_vol_mnth']/df_new['avg_vol_3mnth']\n",
        "  df_new['mnth_yr_ratio_vola'] = df_new['avg_vol_mnth']/df_new['avg_vol_yr']\n",
        "  df_new['3mnth_yr_ratio_vola'] = df_new['avg_vol_3mnth']/df_new['avg_vol_yr']\n",
        "\n",
        "  # standard dev volume\n",
        "  df_new['std_vol_wk'] = df['volume'].rolling(window=5).std().shift(1)\n",
        "  df_new['std_vol_mnth'] = df['volume'].rolling(window=21).std().shift(1)\n",
        "  df_new['std_vol_3mnth'] = df['volume'].rolling(window=63).std().shift(1)\n",
        "  df_new['std_vol_yr'] = df['volume'].rolling(window=252).std().shift(1)\n",
        "\n",
        "  # standard dev volume ratios\n",
        "  df_new['wk_mnth_ratio_vola'] = df_new['std_vol_wk']/df_new['std_vol_mnth']\n",
        "  df_new['wk_3mnth_ratio_vola'] = df_new['std_vol_wk']/df_new['std_vol_3mnth']\n",
        "  df_new['wk_yr_ratio_vola'] = df_new['std_vol_wk']/df_new['std_vol_yr']\n",
        "  df_new['mnth_3mnth_ratio_vola'] = df_new['std_vol_mnth']/df_new['std_vol_3mnth']\n",
        "  df_new['mnth_yr_ratio_vola'] = df_new['std_vol_mnth']/df_new['std_vol_yr']\n",
        "  df_new['3mnth_yr_ratio_vola'] = df_new['std_vol_3mnth']/df_new['std_vol_yr']\n",
        "\n",
        "  # return\n",
        "  df_new['ret_1'] = ((df['close'] - df['close'].shift(1)) / df['close'].shift(1)).shift(1)\n",
        "  df_new['ret_wk'] = ((df['close'] - df['close'].shift(5)) / df['close'].shift(5)).shift(1)\n",
        "  df_new['ret_mnth'] = ((df['close'] - df['close'].shift(21)) / df['close'].shift(21)).shift(1)\n",
        "  df_new['ret_3mnth'] = ((df['close'] - df['close'].shift(63)) / df['close'].shift(63)).shift(1)                                                \n",
        "  df_new['ret_yr'] = ((df['close'] - df['close'].shift(252)) / df['close'].shift(252)).shift(1)\n",
        "\n",
        "  #average of return\n",
        "  df_new['moving_avg_5'] = df_new['ret_1'].rolling(window=5).mean()\n",
        "  df_new['moving_avg_30'] = df_new['ret_1'].rolling(window=21).mean()\n",
        "  df_new['moving_avg_30'] = df_new['ret_1'].rolling(window=63).mean()\n",
        "  df_new['moving_avg_365'] = df_new['ret_1'].rolling(window=252).mean()\n",
        "\n",
        "  # The target\n",
        "  df_new['close'] = df['close']\n",
        "  return df_new\n",
        "\n",
        "\n",
        "data = gen_feat(eu_2)\n",
        "data.head()"
      ],
      "execution_count": 30,
      "outputs": [
        {
          "output_type": "execute_result",
          "data": {
            "text/html": [
              "<div>\n",
              "<style scoped>\n",
              "    .dataframe tbody tr th:only-of-type {\n",
              "        vertical-align: middle;\n",
              "    }\n",
              "\n",
              "    .dataframe tbody tr th {\n",
              "        vertical-align: top;\n",
              "    }\n",
              "\n",
              "    .dataframe thead th {\n",
              "        text-align: right;\n",
              "    }\n",
              "</style>\n",
              "<table border=\"1\" class=\"dataframe\">\n",
              "  <thead>\n",
              "    <tr style=\"text-align: right;\">\n",
              "      <th></th>\n",
              "      <th>open</th>\n",
              "      <th>open_1</th>\n",
              "      <th>close_1</th>\n",
              "      <th>high_1</th>\n",
              "      <th>low_1</th>\n",
              "      <th>volume_1</th>\n",
              "      <th>avg_price_wk</th>\n",
              "      <th>avg_price_mnth</th>\n",
              "      <th>avg_price_3mnth</th>\n",
              "      <th>avg_price_yr</th>\n",
              "      <th>wk_mnth_ratio_pra</th>\n",
              "      <th>wk_3mnth_ratio_pra</th>\n",
              "      <th>wk_yr_ratio_pra</th>\n",
              "      <th>mnth_3mnth_ratio_pra</th>\n",
              "      <th>mnth_yr_ratio_pra</th>\n",
              "      <th>3mnth_yr_ratio_pra</th>\n",
              "      <th>std_price_wk</th>\n",
              "      <th>std_price_mnth</th>\n",
              "      <th>std_price_3mnth</th>\n",
              "      <th>std_price_yr</th>\n",
              "      <th>wk_mnth_ratio_prs</th>\n",
              "      <th>wk_3mnth_ratio_prs</th>\n",
              "      <th>wk_yr_ratio_prs</th>\n",
              "      <th>mnth_3mnth_ratio_prs</th>\n",
              "      <th>mnth_yr_ratio_prs</th>\n",
              "      <th>3mnth_yr_ratio_prs</th>\n",
              "      <th>avg_vol_wk</th>\n",
              "      <th>avg_vol_mnth</th>\n",
              "      <th>avg_vol_3mnth</th>\n",
              "      <th>avg_vol_yr</th>\n",
              "      <th>wk_mnth_ratio_vola</th>\n",
              "      <th>wk_3mnth_ratio_vola</th>\n",
              "      <th>wk_yr_ratio_vola</th>\n",
              "      <th>mnth_3mnth_ratio_vola</th>\n",
              "      <th>mnth_yr_ratio_vola</th>\n",
              "      <th>3mnth_yr_ratio_vola</th>\n",
              "      <th>std_vol_wk</th>\n",
              "      <th>std_vol_mnth</th>\n",
              "      <th>std_vol_3mnth</th>\n",
              "      <th>std_vol_yr</th>\n",
              "      <th>ret_1</th>\n",
              "      <th>ret_wk</th>\n",
              "      <th>ret_mnth</th>\n",
              "      <th>ret_3mnth</th>\n",
              "      <th>ret_yr</th>\n",
              "      <th>moving_avg_5</th>\n",
              "      <th>moving_avg_30</th>\n",
              "      <th>moving_avg_365</th>\n",
              "      <th>close</th>\n",
              "    </tr>\n",
              "  </thead>\n",
              "  <tbody>\n",
              "    <tr>\n",
              "      <th>1971-01-04</th>\n",
              "      <td>0.5369</td>\n",
              "      <td>NaN</td>\n",
              "      <td>NaN</td>\n",
              "      <td>NaN</td>\n",
              "      <td>NaN</td>\n",
              "      <td>NaN</td>\n",
              "      <td>NaN</td>\n",
              "      <td>NaN</td>\n",
              "      <td>NaN</td>\n",
              "      <td>NaN</td>\n",
              "      <td>NaN</td>\n",
              "      <td>NaN</td>\n",
              "      <td>NaN</td>\n",
              "      <td>NaN</td>\n",
              "      <td>NaN</td>\n",
              "      <td>NaN</td>\n",
              "      <td>NaN</td>\n",
              "      <td>NaN</td>\n",
              "      <td>NaN</td>\n",
              "      <td>NaN</td>\n",
              "      <td>NaN</td>\n",
              "      <td>NaN</td>\n",
              "      <td>NaN</td>\n",
              "      <td>NaN</td>\n",
              "      <td>NaN</td>\n",
              "      <td>NaN</td>\n",
              "      <td>NaN</td>\n",
              "      <td>NaN</td>\n",
              "      <td>NaN</td>\n",
              "      <td>NaN</td>\n",
              "      <td>NaN</td>\n",
              "      <td>NaN</td>\n",
              "      <td>NaN</td>\n",
              "      <td>NaN</td>\n",
              "      <td>NaN</td>\n",
              "      <td>NaN</td>\n",
              "      <td>NaN</td>\n",
              "      <td>NaN</td>\n",
              "      <td>NaN</td>\n",
              "      <td>NaN</td>\n",
              "      <td>NaN</td>\n",
              "      <td>NaN</td>\n",
              "      <td>NaN</td>\n",
              "      <td>NaN</td>\n",
              "      <td>NaN</td>\n",
              "      <td>NaN</td>\n",
              "      <td>NaN</td>\n",
              "      <td>NaN</td>\n",
              "      <td>0.5369</td>\n",
              "    </tr>\n",
              "    <tr>\n",
              "      <th>1971-01-05</th>\n",
              "      <td>0.5366</td>\n",
              "      <td>0.5369</td>\n",
              "      <td>0.5369</td>\n",
              "      <td>0.5369</td>\n",
              "      <td>0.5369</td>\n",
              "      <td>1.0</td>\n",
              "      <td>NaN</td>\n",
              "      <td>NaN</td>\n",
              "      <td>NaN</td>\n",
              "      <td>NaN</td>\n",
              "      <td>NaN</td>\n",
              "      <td>NaN</td>\n",
              "      <td>NaN</td>\n",
              "      <td>NaN</td>\n",
              "      <td>NaN</td>\n",
              "      <td>NaN</td>\n",
              "      <td>NaN</td>\n",
              "      <td>NaN</td>\n",
              "      <td>NaN</td>\n",
              "      <td>NaN</td>\n",
              "      <td>NaN</td>\n",
              "      <td>NaN</td>\n",
              "      <td>NaN</td>\n",
              "      <td>NaN</td>\n",
              "      <td>NaN</td>\n",
              "      <td>NaN</td>\n",
              "      <td>NaN</td>\n",
              "      <td>NaN</td>\n",
              "      <td>NaN</td>\n",
              "      <td>NaN</td>\n",
              "      <td>NaN</td>\n",
              "      <td>NaN</td>\n",
              "      <td>NaN</td>\n",
              "      <td>NaN</td>\n",
              "      <td>NaN</td>\n",
              "      <td>NaN</td>\n",
              "      <td>NaN</td>\n",
              "      <td>NaN</td>\n",
              "      <td>NaN</td>\n",
              "      <td>NaN</td>\n",
              "      <td>NaN</td>\n",
              "      <td>NaN</td>\n",
              "      <td>NaN</td>\n",
              "      <td>NaN</td>\n",
              "      <td>NaN</td>\n",
              "      <td>NaN</td>\n",
              "      <td>NaN</td>\n",
              "      <td>NaN</td>\n",
              "      <td>0.5366</td>\n",
              "    </tr>\n",
              "    <tr>\n",
              "      <th>1971-01-06</th>\n",
              "      <td>0.5365</td>\n",
              "      <td>0.5366</td>\n",
              "      <td>0.5366</td>\n",
              "      <td>0.5366</td>\n",
              "      <td>0.5366</td>\n",
              "      <td>1.0</td>\n",
              "      <td>NaN</td>\n",
              "      <td>NaN</td>\n",
              "      <td>NaN</td>\n",
              "      <td>NaN</td>\n",
              "      <td>NaN</td>\n",
              "      <td>NaN</td>\n",
              "      <td>NaN</td>\n",
              "      <td>NaN</td>\n",
              "      <td>NaN</td>\n",
              "      <td>NaN</td>\n",
              "      <td>NaN</td>\n",
              "      <td>NaN</td>\n",
              "      <td>NaN</td>\n",
              "      <td>NaN</td>\n",
              "      <td>NaN</td>\n",
              "      <td>NaN</td>\n",
              "      <td>NaN</td>\n",
              "      <td>NaN</td>\n",
              "      <td>NaN</td>\n",
              "      <td>NaN</td>\n",
              "      <td>NaN</td>\n",
              "      <td>NaN</td>\n",
              "      <td>NaN</td>\n",
              "      <td>NaN</td>\n",
              "      <td>NaN</td>\n",
              "      <td>NaN</td>\n",
              "      <td>NaN</td>\n",
              "      <td>NaN</td>\n",
              "      <td>NaN</td>\n",
              "      <td>NaN</td>\n",
              "      <td>NaN</td>\n",
              "      <td>NaN</td>\n",
              "      <td>NaN</td>\n",
              "      <td>NaN</td>\n",
              "      <td>-0.000559</td>\n",
              "      <td>NaN</td>\n",
              "      <td>NaN</td>\n",
              "      <td>NaN</td>\n",
              "      <td>NaN</td>\n",
              "      <td>NaN</td>\n",
              "      <td>NaN</td>\n",
              "      <td>NaN</td>\n",
              "      <td>0.5365</td>\n",
              "    </tr>\n",
              "    <tr>\n",
              "      <th>1971-01-07</th>\n",
              "      <td>0.5368</td>\n",
              "      <td>0.5365</td>\n",
              "      <td>0.5365</td>\n",
              "      <td>0.5365</td>\n",
              "      <td>0.5365</td>\n",
              "      <td>1.0</td>\n",
              "      <td>NaN</td>\n",
              "      <td>NaN</td>\n",
              "      <td>NaN</td>\n",
              "      <td>NaN</td>\n",
              "      <td>NaN</td>\n",
              "      <td>NaN</td>\n",
              "      <td>NaN</td>\n",
              "      <td>NaN</td>\n",
              "      <td>NaN</td>\n",
              "      <td>NaN</td>\n",
              "      <td>NaN</td>\n",
              "      <td>NaN</td>\n",
              "      <td>NaN</td>\n",
              "      <td>NaN</td>\n",
              "      <td>NaN</td>\n",
              "      <td>NaN</td>\n",
              "      <td>NaN</td>\n",
              "      <td>NaN</td>\n",
              "      <td>NaN</td>\n",
              "      <td>NaN</td>\n",
              "      <td>NaN</td>\n",
              "      <td>NaN</td>\n",
              "      <td>NaN</td>\n",
              "      <td>NaN</td>\n",
              "      <td>NaN</td>\n",
              "      <td>NaN</td>\n",
              "      <td>NaN</td>\n",
              "      <td>NaN</td>\n",
              "      <td>NaN</td>\n",
              "      <td>NaN</td>\n",
              "      <td>NaN</td>\n",
              "      <td>NaN</td>\n",
              "      <td>NaN</td>\n",
              "      <td>NaN</td>\n",
              "      <td>-0.000186</td>\n",
              "      <td>NaN</td>\n",
              "      <td>NaN</td>\n",
              "      <td>NaN</td>\n",
              "      <td>NaN</td>\n",
              "      <td>NaN</td>\n",
              "      <td>NaN</td>\n",
              "      <td>NaN</td>\n",
              "      <td>0.5368</td>\n",
              "    </tr>\n",
              "    <tr>\n",
              "      <th>1971-01-08</th>\n",
              "      <td>0.5371</td>\n",
              "      <td>0.5368</td>\n",
              "      <td>0.5368</td>\n",
              "      <td>0.5368</td>\n",
              "      <td>0.5368</td>\n",
              "      <td>1.0</td>\n",
              "      <td>NaN</td>\n",
              "      <td>NaN</td>\n",
              "      <td>NaN</td>\n",
              "      <td>NaN</td>\n",
              "      <td>NaN</td>\n",
              "      <td>NaN</td>\n",
              "      <td>NaN</td>\n",
              "      <td>NaN</td>\n",
              "      <td>NaN</td>\n",
              "      <td>NaN</td>\n",
              "      <td>NaN</td>\n",
              "      <td>NaN</td>\n",
              "      <td>NaN</td>\n",
              "      <td>NaN</td>\n",
              "      <td>NaN</td>\n",
              "      <td>NaN</td>\n",
              "      <td>NaN</td>\n",
              "      <td>NaN</td>\n",
              "      <td>NaN</td>\n",
              "      <td>NaN</td>\n",
              "      <td>NaN</td>\n",
              "      <td>NaN</td>\n",
              "      <td>NaN</td>\n",
              "      <td>NaN</td>\n",
              "      <td>NaN</td>\n",
              "      <td>NaN</td>\n",
              "      <td>NaN</td>\n",
              "      <td>NaN</td>\n",
              "      <td>NaN</td>\n",
              "      <td>NaN</td>\n",
              "      <td>NaN</td>\n",
              "      <td>NaN</td>\n",
              "      <td>NaN</td>\n",
              "      <td>NaN</td>\n",
              "      <td>0.000559</td>\n",
              "      <td>NaN</td>\n",
              "      <td>NaN</td>\n",
              "      <td>NaN</td>\n",
              "      <td>NaN</td>\n",
              "      <td>NaN</td>\n",
              "      <td>NaN</td>\n",
              "      <td>NaN</td>\n",
              "      <td>0.5371</td>\n",
              "    </tr>\n",
              "  </tbody>\n",
              "</table>\n",
              "</div>"
            ],
            "text/plain": [
              "              open  open_1  close_1  ...  moving_avg_30  moving_avg_365   close\n",
              "1971-01-04  0.5369     NaN      NaN  ...            NaN             NaN  0.5369\n",
              "1971-01-05  0.5366  0.5369   0.5369  ...            NaN             NaN  0.5366\n",
              "1971-01-06  0.5365  0.5366   0.5366  ...            NaN             NaN  0.5365\n",
              "1971-01-07  0.5368  0.5365   0.5365  ...            NaN             NaN  0.5368\n",
              "1971-01-08  0.5371  0.5368   0.5368  ...            NaN             NaN  0.5371\n",
              "\n",
              "[5 rows x 49 columns]"
            ]
          },
          "metadata": {
            "tags": []
          },
          "execution_count": 30
        }
      ]
    },
    {
      "cell_type": "code",
      "metadata": {
        "id": "Rb2HWe-NBHp7",
        "colab_type": "code",
        "colab": {
          "base_uri": "https://localhost:8080/",
          "height": 34
        },
        "outputId": "4a16b2a7-4609-4243-ef5c-2e78abdad2db"
      },
      "source": [
        "print(data.shape)\n",
        "data.isna().sum()"
      ],
      "execution_count": 31,
      "outputs": [
        {
          "output_type": "execute_result",
          "data": {
            "text/plain": [
              "(12115, 49)"
            ]
          },
          "metadata": {
            "tags": []
          },
          "execution_count": 31
        }
      ]
    },
    {
      "cell_type": "code",
      "metadata": {
        "id": "8IxYVWEXEdIk",
        "colab_type": "code",
        "colab": {
          "base_uri": "https://localhost:8080/",
          "height": 419
        },
        "outputId": "df5255ac-85fb-4d1d-c3ad-bb51dab48402"
      },
      "source": [
        "df_new"
      ],
      "execution_count": 28,
      "outputs": [
        {
          "output_type": "execute_result",
          "data": {
            "text/html": [
              "<div>\n",
              "<style scoped>\n",
              "    .dataframe tbody tr th:only-of-type {\n",
              "        vertical-align: middle;\n",
              "    }\n",
              "\n",
              "    .dataframe tbody tr th {\n",
              "        vertical-align: top;\n",
              "    }\n",
              "\n",
              "    .dataframe thead th {\n",
              "        text-align: right;\n",
              "    }\n",
              "</style>\n",
              "<table border=\"1\" class=\"dataframe\">\n",
              "  <thead>\n",
              "    <tr style=\"text-align: right;\">\n",
              "      <th></th>\n",
              "      <th>open</th>\n",
              "      <th>open_1</th>\n",
              "      <th>close_1</th>\n",
              "      <th>high_1</th>\n",
              "      <th>low_1</th>\n",
              "      <th>volume_1</th>\n",
              "    </tr>\n",
              "  </thead>\n",
              "  <tbody>\n",
              "    <tr>\n",
              "      <th>1971-01-04</th>\n",
              "      <td>0.53690</td>\n",
              "      <td>NaN</td>\n",
              "      <td>NaN</td>\n",
              "      <td>NaN</td>\n",
              "      <td>NaN</td>\n",
              "      <td>NaN</td>\n",
              "    </tr>\n",
              "    <tr>\n",
              "      <th>1971-01-05</th>\n",
              "      <td>0.53660</td>\n",
              "      <td>0.53690</td>\n",
              "      <td>0.53690</td>\n",
              "      <td>0.53690</td>\n",
              "      <td>0.53690</td>\n",
              "      <td>1.0</td>\n",
              "    </tr>\n",
              "    <tr>\n",
              "      <th>1971-01-06</th>\n",
              "      <td>0.53650</td>\n",
              "      <td>0.53660</td>\n",
              "      <td>0.53660</td>\n",
              "      <td>0.53660</td>\n",
              "      <td>0.53660</td>\n",
              "      <td>1.0</td>\n",
              "    </tr>\n",
              "    <tr>\n",
              "      <th>1971-01-07</th>\n",
              "      <td>0.53680</td>\n",
              "      <td>0.53650</td>\n",
              "      <td>0.53650</td>\n",
              "      <td>0.53650</td>\n",
              "      <td>0.53650</td>\n",
              "      <td>1.0</td>\n",
              "    </tr>\n",
              "    <tr>\n",
              "      <th>1971-01-08</th>\n",
              "      <td>0.53710</td>\n",
              "      <td>0.53680</td>\n",
              "      <td>0.53680</td>\n",
              "      <td>0.53680</td>\n",
              "      <td>0.53680</td>\n",
              "      <td>1.0</td>\n",
              "    </tr>\n",
              "    <tr>\n",
              "      <th>...</th>\n",
              "      <td>...</td>\n",
              "      <td>...</td>\n",
              "      <td>...</td>\n",
              "      <td>...</td>\n",
              "      <td>...</td>\n",
              "      <td>...</td>\n",
              "    </tr>\n",
              "    <tr>\n",
              "      <th>2019-05-01</th>\n",
              "      <td>1.12148</td>\n",
              "      <td>1.11841</td>\n",
              "      <td>1.12140</td>\n",
              "      <td>1.12286</td>\n",
              "      <td>1.11753</td>\n",
              "      <td>55570.0</td>\n",
              "    </tr>\n",
              "    <tr>\n",
              "      <th>2019-05-02</th>\n",
              "      <td>1.11942</td>\n",
              "      <td>1.12148</td>\n",
              "      <td>1.11941</td>\n",
              "      <td>1.12644</td>\n",
              "      <td>1.11867</td>\n",
              "      <td>52561.0</td>\n",
              "    </tr>\n",
              "    <tr>\n",
              "      <th>2019-05-03</th>\n",
              "      <td>1.11710</td>\n",
              "      <td>1.11942</td>\n",
              "      <td>1.11709</td>\n",
              "      <td>1.12187</td>\n",
              "      <td>1.11703</td>\n",
              "      <td>59203.0</td>\n",
              "    </tr>\n",
              "    <tr>\n",
              "      <th>2019-05-08</th>\n",
              "      <td>1.11922</td>\n",
              "      <td>1.11710</td>\n",
              "      <td>1.13234</td>\n",
              "      <td>1.13236</td>\n",
              "      <td>1.11346</td>\n",
              "      <td>62828.0</td>\n",
              "    </tr>\n",
              "    <tr>\n",
              "      <th>2019-05-09</th>\n",
              "      <td>1.11902</td>\n",
              "      <td>1.11922</td>\n",
              "      <td>1.11920</td>\n",
              "      <td>1.11927</td>\n",
              "      <td>1.11892</td>\n",
              "      <td>698.0</td>\n",
              "    </tr>\n",
              "  </tbody>\n",
              "</table>\n",
              "<p>12115 rows × 6 columns</p>\n",
              "</div>"
            ],
            "text/plain": [
              "               open   open_1  close_1   high_1    low_1  volume_1\n",
              "1971-01-04  0.53690      NaN      NaN      NaN      NaN       NaN\n",
              "1971-01-05  0.53660  0.53690  0.53690  0.53690  0.53690       1.0\n",
              "1971-01-06  0.53650  0.53660  0.53660  0.53660  0.53660       1.0\n",
              "1971-01-07  0.53680  0.53650  0.53650  0.53650  0.53650       1.0\n",
              "1971-01-08  0.53710  0.53680  0.53680  0.53680  0.53680       1.0\n",
              "...             ...      ...      ...      ...      ...       ...\n",
              "2019-05-01  1.12148  1.11841  1.12140  1.12286  1.11753   55570.0\n",
              "2019-05-02  1.11942  1.12148  1.11941  1.12644  1.11867   52561.0\n",
              "2019-05-03  1.11710  1.11942  1.11709  1.12187  1.11703   59203.0\n",
              "2019-05-08  1.11922  1.11710  1.13234  1.13236  1.11346   62828.0\n",
              "2019-05-09  1.11902  1.11922  1.11920  1.11927  1.11892     698.0\n",
              "\n",
              "[12115 rows x 6 columns]"
            ]
          },
          "metadata": {
            "tags": []
          },
          "execution_count": 28
        }
      ]
    },
    {
      "cell_type": "code",
      "metadata": {
        "id": "edOMbZIhEmra",
        "colab_type": "code",
        "colab": {}
      },
      "source": [
        "def gen_feat(df):\n",
        "  df_new = pd.DataFrame()\n",
        "\n",
        "  # Og features\n",
        "  df_new['open'] = df['open']\n",
        "  df_new['open_1'] = df['open'].shift(1)\n",
        "  df_new['close_1'] = df['close'].shift(1)\n",
        "  df_new['high_1'] = df['high'].shift(1)\n",
        "  df_new['low_1'] = df['low'].shift(1)\n",
        "  df_new['volume_1'] = df['volume'].shift(1)\n",
        "\n",
        "  # average price features\n",
        "  df_new['avg_price_wk'] = df['close'].rolling(window=5).mean().shift(1)\n",
        "  df_new['avg_price_mnth'] = df['close'].rolling(window=21).mean().shift(1)\n",
        "  df_new['avg_price_3mnth'] = df['close'].rolling(window=63).mean().shift(1)\n",
        "  df_new['avg_price_yr'] = df['close'].rolling(window=252).mean().shift(1)\n",
        "\n",
        "  # average price ratio\n",
        "  df_new['wk_mnth_ratio_pra'] = df_new['avg_price_wk']/df_new['avg_price_mnth']\n",
        "  df_new['wk_3mnth_ratio_pra'] = df_new['avg_price_wk']/df_new['avg_price_3mnth']\n",
        "  df_new['wk_yr_ratio_pra'] = df_new['avg_price_wk']/df_new['avg_price_yr']\n",
        "  df_new['mnth_3mnth_ratio_pra'] = df_new['avg_price_mnth']/df_new['avg_price_3mnth']\n",
        "  df_new['mnth_yr_ratio_pra'] = df_new['avg_price_mnth']/df_new['avg_price_yr']\n",
        "  df_new['3mnth_yr_ratio_pra'] = df_new['avg_price_3mnth']/df_new['avg_price_yr']\n",
        "\n",
        "   # standard dev price features\n",
        "  df_new['std_price_wk'] = df['close'].rolling(window=5).std().shift(1)\n",
        "  df_new['std_price_mnth'] = df['close'].rolling(window=21).std().shift(1)\n",
        "  df_new['std_price_3mnth'] = df['close'].rolling(window=63).std().shift(1)\n",
        "  df_new['std_price_yr'] = df['close'].rolling(window=252).std().shift(1)\n",
        "\n",
        "  # standard dev price ratio\n",
        "  df_new['wk_mnth_ratio_prs'] = df_new['std_price_wk']/df_new['std_price_mnth']\n",
        "  df_new['wk_3mnth_ratio_prs'] = df_new['std_price_wk']/df_new['std_price_3mnth']\n",
        "  df_new['wk_yr_ratio_prs'] = df_new['std_price_wk']/df_new['std_price_3mnth']\n",
        "  df_new['mnth_3mnth_ratio_prs'] = df_new['std_price_mnth']/df_new['std_price_yr']\n",
        "  df_new['mnth_yr_ratio_prs'] = df_new['std_price_mnth']/df_new['std_price_yr']\n",
        "  df_new['3mnth_yr_ratio_prs'] = df_new['std_price_3mnth']/df_new['std_price_yr']\n",
        "\n",
        "  # average volume\n",
        "  df_new['avg_vol_wk'] = df['volume'].rolling(window=5).mean().shift(1)\n",
        "  df_new['avg_vol_mnth'] = df['volume'].rolling(window=21).mean().shift(1)\n",
        "  df_new['avg_vol_3mnth'] = df['volume'].rolling(window=63).mean().shift(1)\n",
        "  df_new['avg_vol_yr'] = df['volume'].rolling(window=252).mean().shift(1)\n",
        "\n",
        "  # Average volume ratios\n",
        "  df_new['wk_mnth_ratio_vola'] = df_new['avg_vol_wk']/df_new['avg_vol_mnth']\n",
        "  df_new['wk_3mnth_ratio_vola'] = df_new['avg_vol_wk']/df_new['avg_vol_3mnth']\n",
        "  df_new['wk_yr_ratio_vola'] = df_new['avg_vol_wk']/df_new['avg_vol_yr']\n",
        "  df_new['mnth_3mnth_ratio_vola'] = df_new['avg_vol_mnth']/df_new['avg_vol_3mnth']\n",
        "  df_new['mnth_yr_ratio_vola'] = df_new['avg_vol_mnth']/df_new['avg_vol_yr']\n",
        "  df_new['3mnth_yr_ratio_vola'] = df_new['avg_vol_3mnth']/df_new['avg_vol_yr']\n",
        "\n",
        "  # standard dev volume\n",
        "  df_new['std_vol_wk'] = df['volume'].rolling(window=5).std().shift(1)\n",
        "  df_new['std_vol_mnth'] = df['volume'].rolling(window=21).std().shift(1)\n",
        "  df_new['std_vol_3mnth'] = df['volume'].rolling(window=63).std().shift(1)\n",
        "  df_new['std_vol_yr'] = df['volume'].rolling(window=252).std().shift(1)\n",
        "\n",
        "  # standard dev volume ratios\n",
        "  df_new['wk_mnth_ratio_vola'] = df_new['std_vol_wk']/df_new['std_vol_mnth']\n",
        "  df_new['wk_3mnth_ratio_vola'] = df_new['std_vol_wk']/df_new['std_vol_3mnth']\n",
        "  df_new['wk_yr_ratio_vola'] = df_new['std_vol_wk']/df_new['std_vol_yr']\n",
        "  df_new['mnth_3mnth_ratio_vola'] = df_new['std_vol_mnth']/df_new['std_vol_3mnth']\n",
        "  df_new['mnth_yr_ratio_vola'] = df_new['std_vol_mnth']/df_new['std_vol_yr']\n",
        "  df_new['3mnth_yr_ratio_vola'] = df_new['std_vol_3mnth']/df_new['std_vol_yr']\n",
        "\n",
        "  # return\n",
        "  df_new['ret_1'] = ((df['close'] - df['close'].shift(1)) / df['close'].shift(1)).shift(1)\n",
        "  df_new['ret_wk'] = ((df['close'] - df['close'].shift(5)) / df['close'].shift(5)).shift(1)\n",
        "  df_new['ret_mnth'] = ((df['close'] - df['close'].shift(21)) / df['close'].shift(21)).shift(1)\n",
        "  df_new['ret_3mnth'] = ((df['close'] - df['close'].shift(63)) / df['close'].shift(63)).shift(1)                                                \n",
        "  df_new['ret_yr'] = ((df['close'] - df['close'].shift(252)) / df['close'].shift(252)).shift(1)\n",
        "\n",
        "  #average of return\n",
        "  df_new['moving_avg_5'] = df_new['ret_1'].rolling(window=5).mean()\n",
        "  df_new['moving_avg_30'] = df_new['ret_1'].rolling(window=21).mean()\n",
        "  df_new['moving_avg_30'] = df_new['ret_1'].rolling(window=63).mean()\n",
        "  df_new['moving_avg_365'] = df_new['ret_1'].rolling(window=252).mean()\n",
        "\n",
        "  # The target\n",
        "  df_new['close'] = df['close']\n",
        "  df_new = df_new.dropna(axis=0)\n",
        "  return df_new\n",
        "\n",
        "\n",
        "data = gen_feat(eu_2)\n",
        "data.head()"
      ],
      "execution_count": 0,
      "outputs": []
    }
  ]
}